{
  "cells": [
    {
      "cell_type": "code",
      "source": [
        "import time\n",
        "time_start=time.time()"
      ],
      "metadata": {
        "id": "MuljfUJwP3e_"
      },
      "id": "MuljfUJwP3e_",
      "execution_count": 1,
      "outputs": []
    },
    {
      "cell_type": "code",
      "execution_count": 2,
      "id": "30e8d690",
      "metadata": {
        "colab": {
          "base_uri": "https://localhost:8080/",
          "height": 330
        },
        "id": "30e8d690",
        "outputId": "28fc11df-720f-4f14-b279-c32f3a74c96c"
      },
      "outputs": [
        {
          "output_type": "stream",
          "name": "stdout",
          "text": [
            "Requirement already satisfied: gdown in /usr/local/lib/python3.11/dist-packages (5.2.0)\n",
            "Requirement already satisfied: beautifulsoup4 in /usr/local/lib/python3.11/dist-packages (from gdown) (4.13.4)\n",
            "Requirement already satisfied: filelock in /usr/local/lib/python3.11/dist-packages (from gdown) (3.18.0)\n",
            "Requirement already satisfied: requests[socks] in /usr/local/lib/python3.11/dist-packages (from gdown) (2.32.3)\n",
            "Requirement already satisfied: tqdm in /usr/local/lib/python3.11/dist-packages (from gdown) (4.67.1)\n",
            "Requirement already satisfied: soupsieve>1.2 in /usr/local/lib/python3.11/dist-packages (from beautifulsoup4->gdown) (2.7)\n",
            "Requirement already satisfied: typing-extensions>=4.0.0 in /usr/local/lib/python3.11/dist-packages (from beautifulsoup4->gdown) (4.14.0)\n",
            "Requirement already satisfied: charset-normalizer<4,>=2 in /usr/local/lib/python3.11/dist-packages (from requests[socks]->gdown) (3.4.2)\n",
            "Requirement already satisfied: idna<4,>=2.5 in /usr/local/lib/python3.11/dist-packages (from requests[socks]->gdown) (3.10)\n",
            "Requirement already satisfied: urllib3<3,>=1.21.1 in /usr/local/lib/python3.11/dist-packages (from requests[socks]->gdown) (2.4.0)\n",
            "Requirement already satisfied: certifi>=2017.4.17 in /usr/local/lib/python3.11/dist-packages (from requests[socks]->gdown) (2025.4.26)\n",
            "Requirement already satisfied: PySocks!=1.5.7,>=1.5.6 in /usr/local/lib/python3.11/dist-packages (from requests[socks]->gdown) (1.7.1)\n"
          ]
        },
        {
          "output_type": "stream",
          "name": "stderr",
          "text": [
            "Downloading...\n",
            "From (original): https://drive.google.com/uc?id=1YFs_NLzPMqAzZekZYHxykG_qp2vg6qdP\n",
            "From (redirected): https://drive.google.com/uc?id=1YFs_NLzPMqAzZekZYHxykG_qp2vg6qdP&confirm=t&uuid=bf3bbb5f-abc3-40bf-a11f-899e81432f53\n",
            "To: /content/data.zip\n",
            "100%|██████████| 122M/122M [00:02<00:00, 59.3MB/s]\n"
          ]
        },
        {
          "output_type": "execute_result",
          "data": {
            "text/plain": [
              "'data.zip'"
            ],
            "application/vnd.google.colaboratory.intrinsic+json": {
              "type": "string"
            }
          },
          "metadata": {},
          "execution_count": 2
        }
      ],
      "source": [
        "!pip install -U gdown\n",
        "import gdown\n",
        "\n",
        "file_id = \"1YFs_NLzPMqAzZekZYHxykG_qp2vg6qdP\"\n",
        "gdown.download(f\"https://drive.google.com/uc?id={file_id}\", output=\"data.zip\", quiet=False)\n"
      ]
    },
    {
      "cell_type": "code",
      "source": [
        "import zipfile\n",
        "with zipfile.ZipFile(\"data.zip\", 'r') as zip_ref:\n",
        "    zip_ref.extractall(\"data\")"
      ],
      "metadata": {
        "id": "3BkgvEL3Prgf"
      },
      "id": "3BkgvEL3Prgf",
      "execution_count": 3,
      "outputs": []
    },
    {
      "cell_type": "code",
      "source": [
        "import numpy as np\n",
        "import pandas as pd\n",
        "import cv2\n",
        "import matplotlib.pyplot as plt\n",
        "import os\n",
        "import json\n",
        "import xml.etree.ElementTree as ET\n",
        "import glob\n",
        "\n",
        "import torch\n",
        "import torch.nn.functional as F\n",
        "from torch import nn\n",
        "from sklearn.metrics import roc_auc_score\n",
        "from tqdm import tqdm\n",
        "from torch.utils.data import DataLoader\n",
        "from transformers import get_cosine_schedule_with_warmup\n",
        "from torch.utils.data import Dataset\n",
        "\n",
        "import cv2, glob, json, math, os, random, xml.etree.ElementTree as ET\n",
        "from pathlib import Path\n",
        "import numpy as np\n",
        "\n",
        "from torch.utils.data import Dataset, DataLoader\n",
        "from tqdm import tqdm"
      ],
      "metadata": {
        "id": "Nl_OUYITPgSi"
      },
      "id": "Nl_OUYITPgSi",
      "execution_count": 4,
      "outputs": []
    },
    {
      "cell_type": "code",
      "source": [],
      "metadata": {
        "id": "rIobvHVGPgcJ"
      },
      "id": "rIobvHVGPgcJ",
      "execution_count": 4,
      "outputs": []
    },
    {
      "cell_type": "code",
      "execution_count": 5,
      "id": "7078ec11",
      "metadata": {
        "id": "7078ec11"
      },
      "outputs": [],
      "source": [
        "data_root=\"/content/data\"\n",
        "\n",
        "img_size=256"
      ]
    },
    {
      "cell_type": "code",
      "execution_count": 5,
      "id": "3a4d246f",
      "metadata": {
        "id": "3a4d246f"
      },
      "outputs": [],
      "source": []
    },
    {
      "cell_type": "markdown",
      "id": "686a6162",
      "metadata": {
        "id": "686a6162"
      },
      "source": [
        "# Model"
      ]
    },
    {
      "cell_type": "code",
      "execution_count": 6,
      "id": "78404544",
      "metadata": {
        "id": "78404544"
      },
      "outputs": [],
      "source": [
        "import torch\n",
        "import torch.nn as nn\n",
        "import torch.nn.functional as F\n",
        "import timm\n",
        "\n",
        "class UniHeadNet(nn.Module):\n",
        "    def __init__(self,\n",
        "                 n_det_cls=10, n_seg_cls=21, n_cls=30,\n",
        "                 n_anchor=3):\n",
        "        super().__init__()\n",
        "        self.backbone = timm.create_model(\n",
        "            'efficientnet_b0',\n",
        "            pretrained=True,\n",
        "            features_only=True,\n",
        "            out_indices=(3,)  # block6 output: (B, 320, 16, 16) for 256x256 input\n",
        "        )\n",
        "        #3 112 2 40\n",
        "        self.reduce = nn.Sequential(\n",
        "            nn.Conv2d(112, 256, kernel_size=1, bias=False),\n",
        "            nn.BatchNorm2d(256),\n",
        "            nn.SiLU()\n",
        "        )\n",
        "#         self.upsample = nn.Upsample(scale_factor=2, mode='bilinear',\n",
        "#                                     align_corners=False)\n",
        "\n",
        "        self.head_conv = nn.Sequential(\n",
        "            nn.Conv2d(256, 256, 3, padding=1, bias=False),\n",
        "            nn.BatchNorm2d(256), nn.SiLU())\n",
        "\n",
        "        C_det = n_anchor * (5 + n_det_cls)\n",
        "        C_seg = n_seg_cls\n",
        "        C_cls = n_cls\n",
        "        self.C_det, self.C_seg, self.C_cls = C_det, C_seg, C_cls\n",
        "\n",
        "        self.head_out = nn.Conv2d(256, C_det + C_seg + C_cls, 1)\n",
        "\n",
        "    def forward(self, x, export_onnx=False):\n",
        "#         m = self.backbone\n",
        "#         feat = m.forward_features(x)             # (B,1280,7,7)\n",
        "        feat = self.backbone(x)[0]\n",
        "        #print(feat.shape)\n",
        "        #print(feat.shape)\n",
        "        #feat = self.upsample(self.reduce(feat))\n",
        "        feat = self.reduce(feat) # (B,256,14,14)\n",
        "        #print(feat.shape)\n",
        "        y = self.head_out(self.head_conv(feat))  # (B, C_all, 14, 14)\n",
        "\n",
        "        #-------------- 拆解三種輸出 ----------------#\n",
        "        B = y.size(0)\n",
        "        C_det, C_seg, C_cls = self.C_det, self.C_seg, self.C_cls\n",
        "\n",
        "        det_logits = y[:, :C_det]                    # (B,C_det,14,14)\n",
        "\n",
        "        seg_logits = y[:, C_det:C_det + C_seg]       # (B,C_seg,14,14)\n",
        "        seg_logits = F.interpolate(seg_logits, size=x.shape[2:],\n",
        "                                   mode='bilinear', align_corners=False)\n",
        "\n",
        "        cls_logits = y[:, -C_cls:]                  # (B,C_cls,14,14)\n",
        "        cls_logits = cls_logits.mean(dim=[2, 3])     # GAP → (B,C_cls)\n",
        "\n",
        "        if export_onnx:      # 方便部署\n",
        "            return det_logits, seg_logits, cls_logits\n",
        "        return {\n",
        "            'det': det_logits,      # 後處理：decode boxes + NMS\n",
        "            'seg': seg_logits,      # CrossEntropy2d\n",
        "            'cls': cls_logits       # CE / focal loss\n",
        "        }\n"
      ]
    },
    {
      "cell_type": "code",
      "execution_count": 7,
      "id": "1d9678e7",
      "metadata": {
        "colab": {
          "base_uri": "https://localhost:8080/",
          "height": 243,
          "referenced_widgets": [
            "2281c9c996f34607bffcc653e3f58cfa",
            "d95a02819f3b4feb8ef47be400ad9d3c",
            "c21986aa17e048c4a37cc59ba51d44d4",
            "708ed8344a214b6e80287b1efce266ca",
            "5ff0421f769c4973a8c6ff4d5a4321f8",
            "45585bee595d4ee096061e6abefccc87",
            "73865e16ae124e8687f2e4fdcf8f9fc0",
            "94f4f01884b8440d88eafa63a0ff9833",
            "0333f7fdbfb54f869470096ac652df4c",
            "c3c120a66fd44062a62a14e078107062",
            "c8cafe9fec6d4301b3400debd9f27981"
          ]
        },
        "id": "1d9678e7",
        "outputId": "765452fa-38de-44e6-c004-1d5bc1bd93f1"
      },
      "outputs": [
        {
          "output_type": "stream",
          "name": "stderr",
          "text": [
            "/usr/local/lib/python3.11/dist-packages/huggingface_hub/utils/_auth.py:94: UserWarning: \n",
            "The secret `HF_TOKEN` does not exist in your Colab secrets.\n",
            "To authenticate with the Hugging Face Hub, create a token in your settings tab (https://huggingface.co/settings/tokens), set it as secret in your Google Colab and restart your session.\n",
            "You will be able to reuse this secret in all of your notebooks.\n",
            "Please note that authentication is recommended but still optional to access public models or datasets.\n",
            "  warnings.warn(\n"
          ]
        },
        {
          "output_type": "display_data",
          "data": {
            "text/plain": [
              "model.safetensors:   0%|          | 0.00/21.4M [00:00<?, ?B/s]"
            ],
            "application/vnd.jupyter.widget-view+json": {
              "version_major": 2,
              "version_minor": 0,
              "model_id": "2281c9c996f34607bffcc653e3f58cfa"
            }
          },
          "metadata": {}
        },
        {
          "output_type": "stream",
          "name": "stderr",
          "text": [
            "WARNING:timm.models._builder:Unexpected keys (bn2.bias, bn2.num_batches_tracked, bn2.running_mean, bn2.running_var, bn2.weight, classifier.bias, classifier.weight, conv_head.weight) found while loading pretrained weights. This may be expected if model is being adapted.\n"
          ]
        },
        {
          "output_type": "stream",
          "name": "stdout",
          "text": [
            "det ➜ (1, 45, 16, 16)\n",
            "seg ➜ (1, 19, 256, 256)\n",
            "cls ➜ (1, 30)\n"
          ]
        }
      ],
      "source": [
        "dummy = torch.randn(1, 3, img_size, img_size)\n",
        "model = UniHeadNet(\n",
        "    n_det_cls=10,   # 偵測 10 個類別\n",
        "    n_seg_cls=19,   # 分割 19 個類別（含背景）\n",
        "    n_cls=30,       # 影像分類 10 個類別\n",
        "    n_anchor=3      # 每個網格 3 個 anchor\n",
        ").eval()\n",
        "with torch.no_grad():\n",
        "    out = model(dummy)   # forward\n",
        "\n",
        "for k, v in out.items():\n",
        "    print(f\"{k:3} ➜ {tuple(v.shape)}\")"
      ]
    },
    {
      "cell_type": "code",
      "execution_count": 8,
      "id": "618ac1fe",
      "metadata": {
        "colab": {
          "base_uri": "https://localhost:8080/"
        },
        "id": "618ac1fe",
        "outputId": "85c2a03e-30f5-4d83-89e8-1b99f78c3974"
      },
      "outputs": [
        {
          "output_type": "stream",
          "name": "stdout",
          "text": [
            "Total parameters: 4.24 M\n"
          ]
        }
      ],
      "source": [
        "total_params = sum(p.numel() for p in model.parameters())\n",
        "print(f\"Total parameters: {total_params / 1e6:.2f} M\")\n"
      ]
    },
    {
      "cell_type": "markdown",
      "id": "02ce0838",
      "metadata": {
        "id": "02ce0838"
      },
      "source": [
        "# Seg"
      ]
    },
    {
      "cell_type": "code",
      "execution_count": 9,
      "id": "ce439166",
      "metadata": {
        "id": "ce439166"
      },
      "outputs": [],
      "source": [
        "def build_class_dict(xml_dir):\n",
        "    cls_set = set()\n",
        "    for p in glob.glob(f'{xml_dir}/*.xml'):\n",
        "        root = ET.parse(p).getroot()\n",
        "        name = root.find('.//object/name').text.strip()\n",
        "        cls_set.add(name)\n",
        "    cls2id = {c:i+1 for i,c in enumerate(sorted(cls_set))}\n",
        "    return cls2id\n",
        "\n",
        "cls2id=build_class_dict(f\"{data_root}/data/mini_voc_seg/train/Annotations\")\n"
      ]
    },
    {
      "cell_type": "code",
      "execution_count": 10,
      "id": "db3a27cf",
      "metadata": {
        "id": "db3a27cf"
      },
      "outputs": [],
      "source": [
        "import xml.etree.ElementTree as ET\n",
        "import cv2, torch\n",
        "from torch.utils.data import Dataset\n",
        "import numpy as np\n",
        "\n",
        "class SegMiniN(Dataset):\n",
        "    def __init__(self, names, root, cls2id, size=256, lb=True):\n",
        "        \"\"\"\n",
        "        names : list[str]   # 不含副檔名\n",
        "        root  : Path        # 資料根目錄，下有 JPEGImages / SegmentationClass / Annotations\n",
        "        \"\"\"\n",
        "        self.names, self.root = names, Path(root)\n",
        "        self.size, self.lb = size, lb\n",
        "        self.cls2id = cls2id    # 已事先建立的 {class: id}\n",
        "\n",
        "    def _letterbox(self, img, mask):\n",
        "        h, w = img.shape[:2]\n",
        "        s = self.size / max(h, w)\n",
        "        nh, nw = int(h * s), int(w * s)\n",
        "        img_r = cv2.resize(img, (nw, nh))\n",
        "        msk_r = cv2.resize(mask, (nw, nh), interpolation=cv2.INTER_NEAREST)\n",
        "\n",
        "        out_i = np.zeros((self.size, self.size, 3), np.uint8)\n",
        "        out_m = np.zeros((self.size, self.size),   np.uint8)\n",
        "        top, left = (self.size - nh)//2, (self.size - nw)//2\n",
        "        out_i[top:top+nh, left:left+nw] = img_r\n",
        "        out_m[top:top+nh, left:left+nw] = msk_r\n",
        "        return out_i, out_m\n",
        "\n",
        "    def __getitem__(self, idx):\n",
        "        name = self.names[idx]\n",
        "\n",
        "        img = cv2.imread(f\"{self.root}/JPEGImages/{name}.jpg\")[:, :, ::-1]  # BGR→RGB\n",
        "\n",
        "        # 讀 mask；如是彩色 palette，這裡簡化：只判斷 >0 為前景\n",
        "        mask_png = cv2.imread(f\"{self.root}/SegmentationClass/{name}.png\",\n",
        "                              cv2.IMREAD_UNCHANGED)\n",
        "\n",
        "\n",
        "        target_color = np.array([192, 224, 224], dtype=np.uint8)\n",
        "\n",
        "        # 建立布林遮罩：True 表示「這個像素就是目標顏色」\n",
        "        mask = (mask_png  == target_color).all(axis=-1)   # shape = (512, 512)\n",
        "\n",
        "        # 把符合條件的像素設成 [0,0,0]\n",
        "        mask_png[mask] = [0, 0, 0]\n",
        "\n",
        "\n",
        "        if mask_png.ndim == 3:\n",
        "\n",
        "            mask_png = mask_png.sum(axis=2)\n",
        "\n",
        "        # 讀 XML → 取 <name>\n",
        "        xml_path = f\"{self.root}/Annotations/{name}.xml\"\n",
        "        cls_name = ET.parse(xml_path).find('.//object/name').text.strip()\n",
        "        fg_id = self.cls2id[cls_name]\n",
        "        #print(fg_id)\n",
        "        mask = np.where(mask_png > 0, fg_id, 0).astype(np.uint8)\n",
        "\n",
        "        # 尺寸處理\n",
        "        if self.lb:\n",
        "            img, mask = self._letterbox(img, mask)\n",
        "        else:\n",
        "            img = cv2.resize(img, (self.size, self.size))\n",
        "            mask = cv2.resize(mask, (self.size, self.size), interpolation=cv2.INTER_NEAREST)\n",
        "\n",
        "        # to Tensor\n",
        "        img = torch.from_numpy(img).permute(2,0,1).float() / 255.\n",
        "        mask = torch.from_numpy(mask).long()        # 先轉成 int64\n",
        "        mask_1hot = torch.nn.functional.one_hot(\n",
        "            mask, num_classes=len(self.cls2id)+1      # (H,W,k)\n",
        "        ).permute(2, 0, 1).float()\n",
        "\n",
        "        return img, mask_1hot         # img:(3,256,256)  mask:(k,256,256)\n",
        "\n",
        "    def __len__(self): return len(self.names)\n"
      ]
    },
    {
      "cell_type": "code",
      "execution_count": 11,
      "id": "5b8c5009",
      "metadata": {
        "id": "5b8c5009"
      },
      "outputs": [],
      "source": [
        "\n",
        "\n",
        "# ──────────────────── 0. 基本參數 ──────────────────── #\n",
        "CFG = dict(\n",
        "    root_tr      = Path(f\"{data_root}/data/mini_voc_seg/train\"),\n",
        "    root_val     = Path(f\"{data_root}/data/mini_voc_seg/val\"),\n",
        "    img_size     = img_size,\n",
        "    batch_size   = 8,\n",
        "    epochs       = 200,\n",
        "    lr           = 1e-5,\n",
        "    seed         = 42,\n",
        "    device       = \"cuda\" if torch.cuda.is_available() else \"cpu\",\n",
        "    num_workers  = 2,\n",
        "    save_dir     = Path(\"ckpt_stage1\"),\n",
        ")\n",
        "\n",
        "cfg=CFG\n",
        "tr_names = sorted(p.stem for p in (cfg[\"root_tr\"] / \"Annotations\").glob(\"*.xml\"))\n",
        "val_names= sorted(p.stem for p in (cfg[\"root_val\"] / \"Annotations\").glob(\"*.xml\"))\n",
        "train_ds = SegMiniN(tr_names, cfg[\"root_tr\"], cls2id, cfg[\"img_size\"])\n",
        "val_ds   = SegMiniN(val_names,  cfg[\"root_val\"], cls2id, cfg[\"img_size\"])"
      ]
    },
    {
      "cell_type": "code",
      "execution_count": 12,
      "id": "3c36b1d6",
      "metadata": {
        "id": "3c36b1d6"
      },
      "outputs": [],
      "source": [
        "\n",
        "\n",
        "def dice_loss(pred, target, epsilon=1e-6):\n",
        "    \"\"\"\n",
        "    pred: (B, C, H, W) after sigmoid\n",
        "    target: (B, C, H, W) one-hot\n",
        "    \"\"\"\n",
        "    pred = torch.sigmoid(pred)  # 先做 sigmoid\n",
        "    intersect = (pred * target).sum(dim=(2, 3))\n",
        "    union = pred.sum(dim=(2, 3)) + target.sum(dim=(2, 3))\n",
        "    dice = (2 * intersect + epsilon) / (union + epsilon)\n",
        "    return 1 - dice.mean()\n",
        "\n",
        "def seg_loss_fn(pred_logits, target_1hot):\n",
        "    \"\"\"\n",
        "    pred_logits: raw logits, (B, C, H, W)\n",
        "    target_1hot: one-hot, (B, C, H, W)\n",
        "    \"\"\"\n",
        "    bce = F.binary_cross_entropy_with_logits(pred_logits, target_1hot)\n",
        "    dice = dice_loss(pred_logits, target_1hot)\n",
        "    return 0.5 * bce + 0.5 * dice\n",
        "\n",
        "\n",
        "def train_seg(model, train_loader, optimizer, device):\n",
        "    model.train()\n",
        "    total_loss = 0\n",
        "\n",
        "    for img, mask_1hot in tqdm(train_loader):\n",
        "        img = img.to(device)\n",
        "        mask_1hot = mask_1hot.to(device)\n",
        "\n",
        "        out = model(img)['seg']  # get segmentation output\n",
        "\n",
        "        loss = seg_loss_fn(out, mask_1hot)\n",
        "\n",
        "        optimizer.zero_grad()\n",
        "        loss.backward()\n",
        "        optimizer.step()\n",
        "\n",
        "        total_loss += loss.item()\n",
        "\n",
        "    avg_loss = total_loss / len(train_loader)\n",
        "    print(f\"Train Loss: {avg_loss:.4f}\")\n",
        "    return avg_loss\n",
        "\n",
        "@torch.no_grad()\n",
        "def validate_seg(model, val_loader, device):\n",
        "    model.eval()\n",
        "    total_loss = 0\n",
        "    total_mIoU = 0\n",
        "    num_classes = val_loader.dataset[0][1].shape[0]  # (C, H, W)\n",
        "\n",
        "    for img, mask_1hot in tqdm(val_loader):\n",
        "        img = img.to(device)\n",
        "        mask_1hot = mask_1hot.to(device)\n",
        "\n",
        "        out = model(img)['seg']\n",
        "\n",
        "        loss = seg_loss_fn(out, mask_1hot)\n",
        "        total_loss += loss.item()\n",
        "\n",
        "        # mIoU\n",
        "        pred = torch.sigmoid(out) > 0.5\n",
        "        iou = compute_mIoU(pred, mask_1hot)\n",
        "        total_mIoU += iou.item()\n",
        "\n",
        "    avg_loss = total_loss / len(val_loader)\n",
        "    avg_mIoU = total_mIoU / len(val_loader)\n",
        "    print(f\"Val Loss: {avg_loss:.4f}, mIoU: {avg_mIoU:.4f}\")\n",
        "    return avg_loss, avg_mIoU\n",
        "def compute_mIoU(pred, target, epsilon=1e-6):\n",
        "    \"\"\"\n",
        "    pred: (B, C, H, W) binary after sigmoid > 0.5\n",
        "    target: (B, C, H, W)\n",
        "    \"\"\"\n",
        "    intersection = (pred & target.bool()).sum(dim=(2, 3))\n",
        "    union = (pred | target.bool()).sum(dim=(2, 3))\n",
        "    iou = (intersection + epsilon) / (union + epsilon)\n",
        "    return iou.mean()"
      ]
    },
    {
      "cell_type": "code",
      "execution_count": 13,
      "id": "86ff0ca0",
      "metadata": {
        "colab": {
          "base_uri": "https://localhost:8080/"
        },
        "id": "86ff0ca0",
        "outputId": "73bdc257-91d9-418b-c3ca-0dba9ad34ff6"
      },
      "outputs": [
        {
          "output_type": "stream",
          "name": "stderr",
          "text": [
            "WARNING:timm.models._builder:Unexpected keys (bn2.bias, bn2.num_batches_tracked, bn2.running_mean, bn2.running_var, bn2.weight, classifier.bias, classifier.weight, conv_head.weight) found while loading pretrained weights. This may be expected if model is being adapted.\n"
          ]
        },
        {
          "output_type": "stream",
          "name": "stdout",
          "text": [
            "\n",
            "Epoch 1\n"
          ]
        },
        {
          "output_type": "stream",
          "name": "stderr",
          "text": [
            "100%|██████████| 30/30 [00:12<00:00,  2.45it/s]\n"
          ]
        },
        {
          "output_type": "stream",
          "name": "stdout",
          "text": [
            "Train Loss: 0.7577\n"
          ]
        },
        {
          "output_type": "stream",
          "name": "stderr",
          "text": [
            "100%|██████████| 8/8 [00:04<00:00,  1.66it/s]\n"
          ]
        },
        {
          "output_type": "stream",
          "name": "stdout",
          "text": [
            "Val Loss: 0.6986, mIoU: 0.2841\n",
            "Best mIOU is 0.28414864279329777\n",
            "save model\n",
            "\n",
            "Epoch 2\n"
          ]
        },
        {
          "output_type": "stream",
          "name": "stderr",
          "text": [
            "100%|██████████| 30/30 [00:06<00:00,  4.61it/s]\n"
          ]
        },
        {
          "output_type": "stream",
          "name": "stdout",
          "text": [
            "Train Loss: 0.6631\n"
          ]
        },
        {
          "output_type": "stream",
          "name": "stderr",
          "text": [
            "100%|██████████| 8/8 [00:02<00:00,  3.87it/s]\n"
          ]
        },
        {
          "output_type": "stream",
          "name": "stdout",
          "text": [
            "Val Loss: 0.6291, mIoU: 0.7774\n",
            "Best mIOU is 0.7774068340659142\n",
            "save model\n",
            "\n",
            "Epoch 3\n"
          ]
        },
        {
          "output_type": "stream",
          "name": "stderr",
          "text": [
            "100%|██████████| 30/30 [00:06<00:00,  4.86it/s]\n"
          ]
        },
        {
          "output_type": "stream",
          "name": "stdout",
          "text": [
            "Train Loss: 0.6000\n"
          ]
        },
        {
          "output_type": "stream",
          "name": "stderr",
          "text": [
            "100%|██████████| 8/8 [00:01<00:00,  4.79it/s]\n"
          ]
        },
        {
          "output_type": "stream",
          "name": "stdout",
          "text": [
            "Val Loss: 0.5831, mIoU: 0.8790\n",
            "Best mIOU is 0.8790472000837326\n",
            "save model\n",
            "\n",
            "Epoch 4\n"
          ]
        },
        {
          "output_type": "stream",
          "name": "stderr",
          "text": [
            "100%|██████████| 30/30 [00:07<00:00,  4.19it/s]\n"
          ]
        },
        {
          "output_type": "stream",
          "name": "stdout",
          "text": [
            "Train Loss: 0.5590\n"
          ]
        },
        {
          "output_type": "stream",
          "name": "stderr",
          "text": [
            "100%|██████████| 8/8 [00:01<00:00,  4.79it/s]\n"
          ]
        },
        {
          "output_type": "stream",
          "name": "stdout",
          "text": [
            "Val Loss: 0.5509, mIoU: 0.8827\n",
            "Best mIOU is 0.8827486261725426\n",
            "save model\n",
            "\n",
            "Epoch 5\n"
          ]
        },
        {
          "output_type": "stream",
          "name": "stderr",
          "text": [
            "100%|██████████| 30/30 [00:06<00:00,  4.58it/s]\n"
          ]
        },
        {
          "output_type": "stream",
          "name": "stdout",
          "text": [
            "Train Loss: 0.5330\n"
          ]
        },
        {
          "output_type": "stream",
          "name": "stderr",
          "text": [
            "100%|██████████| 8/8 [00:01<00:00,  4.20it/s]\n"
          ]
        },
        {
          "output_type": "stream",
          "name": "stdout",
          "text": [
            "Val Loss: 0.5285, mIoU: 0.9005\n",
            "Best mIOU is 0.900499701499939\n",
            "save model\n",
            "\n",
            "Epoch 6\n"
          ]
        },
        {
          "output_type": "stream",
          "name": "stderr",
          "text": [
            "100%|██████████| 30/30 [00:06<00:00,  4.87it/s]\n"
          ]
        },
        {
          "output_type": "stream",
          "name": "stdout",
          "text": [
            "Train Loss: 0.5151\n"
          ]
        },
        {
          "output_type": "stream",
          "name": "stderr",
          "text": [
            "100%|██████████| 8/8 [00:01<00:00,  4.85it/s]\n"
          ]
        },
        {
          "output_type": "stream",
          "name": "stdout",
          "text": [
            "Val Loss: 0.5153, mIoU: 0.8921\n",
            "\n",
            "Epoch 7\n"
          ]
        },
        {
          "output_type": "stream",
          "name": "stderr",
          "text": [
            "100%|██████████| 30/30 [00:07<00:00,  4.16it/s]\n"
          ]
        },
        {
          "output_type": "stream",
          "name": "stdout",
          "text": [
            "Train Loss: 0.5025\n"
          ]
        },
        {
          "output_type": "stream",
          "name": "stderr",
          "text": [
            "100%|██████████| 8/8 [00:01<00:00,  4.91it/s]\n"
          ]
        },
        {
          "output_type": "stream",
          "name": "stdout",
          "text": [
            "Val Loss: 0.5049, mIoU: 0.9059\n",
            "Best mIOU is 0.9058856517076492\n",
            "save model\n",
            "\n",
            "Epoch 8\n"
          ]
        },
        {
          "output_type": "stream",
          "name": "stderr",
          "text": [
            "100%|██████████| 30/30 [00:06<00:00,  4.55it/s]\n"
          ]
        },
        {
          "output_type": "stream",
          "name": "stdout",
          "text": [
            "Train Loss: 0.4938\n"
          ]
        },
        {
          "output_type": "stream",
          "name": "stderr",
          "text": [
            "100%|██████████| 8/8 [00:01<00:00,  4.14it/s]\n"
          ]
        },
        {
          "output_type": "stream",
          "name": "stdout",
          "text": [
            "Val Loss: 0.4990, mIoU: 0.9045\n",
            "\n",
            "Epoch 9\n"
          ]
        },
        {
          "output_type": "stream",
          "name": "stderr",
          "text": [
            "100%|██████████| 30/30 [00:06<00:00,  4.81it/s]\n"
          ]
        },
        {
          "output_type": "stream",
          "name": "stdout",
          "text": [
            "Train Loss: 0.4870\n"
          ]
        },
        {
          "output_type": "stream",
          "name": "stderr",
          "text": [
            "100%|██████████| 8/8 [00:01<00:00,  4.71it/s]\n"
          ]
        },
        {
          "output_type": "stream",
          "name": "stdout",
          "text": [
            "Val Loss: 0.4953, mIoU: 0.8920\n",
            "\n",
            "Epoch 10\n"
          ]
        },
        {
          "output_type": "stream",
          "name": "stderr",
          "text": [
            "100%|██████████| 30/30 [00:07<00:00,  4.00it/s]\n"
          ]
        },
        {
          "output_type": "stream",
          "name": "stdout",
          "text": [
            "Train Loss: 0.4818\n"
          ]
        },
        {
          "output_type": "stream",
          "name": "stderr",
          "text": [
            "100%|██████████| 8/8 [00:01<00:00,  4.68it/s]\n"
          ]
        },
        {
          "output_type": "stream",
          "name": "stdout",
          "text": [
            "Val Loss: 0.4915, mIoU: 0.9010\n",
            "\n",
            "Epoch 11\n"
          ]
        },
        {
          "output_type": "stream",
          "name": "stderr",
          "text": [
            "100%|██████████| 30/30 [00:06<00:00,  4.31it/s]\n"
          ]
        },
        {
          "output_type": "stream",
          "name": "stdout",
          "text": [
            "Train Loss: 0.4772\n"
          ]
        },
        {
          "output_type": "stream",
          "name": "stderr",
          "text": [
            "100%|██████████| 8/8 [00:01<00:00,  4.23it/s]\n"
          ]
        },
        {
          "output_type": "stream",
          "name": "stdout",
          "text": [
            "Val Loss: 0.4883, mIoU: 0.8976\n",
            "\n",
            "Epoch 12\n"
          ]
        },
        {
          "output_type": "stream",
          "name": "stderr",
          "text": [
            "100%|██████████| 30/30 [00:06<00:00,  4.82it/s]\n"
          ]
        },
        {
          "output_type": "stream",
          "name": "stdout",
          "text": [
            "Train Loss: 0.4741\n"
          ]
        },
        {
          "output_type": "stream",
          "name": "stderr",
          "text": [
            "100%|██████████| 8/8 [00:01<00:00,  4.83it/s]\n"
          ]
        },
        {
          "output_type": "stream",
          "name": "stdout",
          "text": [
            "Val Loss: 0.4878, mIoU: 0.8896\n",
            "\n",
            "Epoch 13\n"
          ]
        },
        {
          "output_type": "stream",
          "name": "stderr",
          "text": [
            "100%|██████████| 30/30 [00:07<00:00,  4.07it/s]\n"
          ]
        },
        {
          "output_type": "stream",
          "name": "stdout",
          "text": [
            "Train Loss: 0.4716\n"
          ]
        },
        {
          "output_type": "stream",
          "name": "stderr",
          "text": [
            "100%|██████████| 8/8 [00:01<00:00,  4.71it/s]\n"
          ]
        },
        {
          "output_type": "stream",
          "name": "stdout",
          "text": [
            "Val Loss: 0.4846, mIoU: 0.8976\n",
            "\n",
            "Epoch 14\n"
          ]
        },
        {
          "output_type": "stream",
          "name": "stderr",
          "text": [
            "100%|██████████| 30/30 [00:10<00:00,  2.95it/s]\n"
          ]
        },
        {
          "output_type": "stream",
          "name": "stdout",
          "text": [
            "Train Loss: 0.4689\n"
          ]
        },
        {
          "output_type": "stream",
          "name": "stderr",
          "text": [
            "100%|██████████| 8/8 [00:01<00:00,  4.65it/s]\n"
          ]
        },
        {
          "output_type": "stream",
          "name": "stdout",
          "text": [
            "Val Loss: 0.4840, mIoU: 0.9064\n",
            "Best mIOU is 0.9063650965690613\n",
            "save model\n",
            "\n",
            "Epoch 15\n"
          ]
        },
        {
          "output_type": "stream",
          "name": "stderr",
          "text": [
            "100%|██████████| 30/30 [00:12<00:00,  2.35it/s]\n"
          ]
        },
        {
          "output_type": "stream",
          "name": "stdout",
          "text": [
            "Train Loss: 0.4673\n"
          ]
        },
        {
          "output_type": "stream",
          "name": "stderr",
          "text": [
            "100%|██████████| 8/8 [00:01<00:00,  4.61it/s]\n"
          ]
        },
        {
          "output_type": "stream",
          "name": "stdout",
          "text": [
            "Val Loss: 0.4826, mIoU: 0.9003\n",
            "\n",
            "Epoch 16\n"
          ]
        },
        {
          "output_type": "stream",
          "name": "stderr",
          "text": [
            "100%|██████████| 30/30 [00:07<00:00,  4.05it/s]\n"
          ]
        },
        {
          "output_type": "stream",
          "name": "stdout",
          "text": [
            "Train Loss: 0.4660\n"
          ]
        },
        {
          "output_type": "stream",
          "name": "stderr",
          "text": [
            "100%|██████████| 8/8 [00:01<00:00,  4.76it/s]\n"
          ]
        },
        {
          "output_type": "stream",
          "name": "stdout",
          "text": [
            "Val Loss: 0.4825, mIoU: 0.8780\n",
            "\n",
            "Epoch 17\n"
          ]
        },
        {
          "output_type": "stream",
          "name": "stderr",
          "text": [
            "100%|██████████| 30/30 [00:06<00:00,  4.86it/s]\n"
          ]
        },
        {
          "output_type": "stream",
          "name": "stdout",
          "text": [
            "Train Loss: 0.4648\n"
          ]
        },
        {
          "output_type": "stream",
          "name": "stderr",
          "text": [
            "100%|██████████| 8/8 [00:01<00:00,  4.42it/s]\n"
          ]
        },
        {
          "output_type": "stream",
          "name": "stdout",
          "text": [
            "Val Loss: 0.4815, mIoU: 0.9049\n",
            "\n",
            "Epoch 18\n"
          ]
        },
        {
          "output_type": "stream",
          "name": "stderr",
          "text": [
            "100%|██████████| 30/30 [00:07<00:00,  4.27it/s]\n"
          ]
        },
        {
          "output_type": "stream",
          "name": "stdout",
          "text": [
            "Train Loss: 0.4635\n"
          ]
        },
        {
          "output_type": "stream",
          "name": "stderr",
          "text": [
            "100%|██████████| 8/8 [00:01<00:00,  4.79it/s]\n"
          ]
        },
        {
          "output_type": "stream",
          "name": "stdout",
          "text": [
            "Val Loss: 0.4822, mIoU: 0.8956\n",
            "\n",
            "Epoch 19\n"
          ]
        },
        {
          "output_type": "stream",
          "name": "stderr",
          "text": [
            "100%|██████████| 30/30 [00:07<00:00,  4.12it/s]\n"
          ]
        },
        {
          "output_type": "stream",
          "name": "stdout",
          "text": [
            "Train Loss: 0.4623\n"
          ]
        },
        {
          "output_type": "stream",
          "name": "stderr",
          "text": [
            "100%|██████████| 8/8 [00:01<00:00,  4.67it/s]\n"
          ]
        },
        {
          "output_type": "stream",
          "name": "stdout",
          "text": [
            "Val Loss: 0.4800, mIoU: 0.9059\n",
            "\n",
            "Epoch 20\n"
          ]
        },
        {
          "output_type": "stream",
          "name": "stderr",
          "text": [
            "100%|██████████| 30/30 [00:06<00:00,  4.89it/s]\n"
          ]
        },
        {
          "output_type": "stream",
          "name": "stdout",
          "text": [
            "Train Loss: 0.4615\n"
          ]
        },
        {
          "output_type": "stream",
          "name": "stderr",
          "text": [
            "100%|██████████| 8/8 [00:01<00:00,  4.29it/s]\n"
          ]
        },
        {
          "output_type": "stream",
          "name": "stdout",
          "text": [
            "Val Loss: 0.4805, mIoU: 0.9074\n",
            "Best mIOU is 0.9073649048805237\n",
            "save model\n"
          ]
        }
      ],
      "source": [
        "\n",
        "\n",
        "train_loader = DataLoader(train_ds, batch_size=8, shuffle=True, num_workers=2)\n",
        "val_seg_loader = DataLoader(val_ds, batch_size=8)\n",
        "\n",
        "model = UniHeadNet(n_seg_cls=19,n_det_cls=10, n_anchor=3,n_cls=30).to(cfg[\"device\"])\n",
        "optimizer = torch.optim.Adam(model.parameters(), lr=3e-4)\n",
        "best_miou=0\n",
        "for epoch in range(1, 21):\n",
        "    print(f\"\\nEpoch {epoch}\")\n",
        "    train_seg(model, train_loader, optimizer, cfg[\"device\"])\n",
        "    _,val_miou=validate_seg(model, val_seg_loader, cfg[\"device\"])\n",
        "\n",
        "    if val_miou > best_miou:\n",
        "      best_miou = val_miou\n",
        "      torch.save(model.state_dict(), 'best_seg_model.pth')\n",
        "      print(f\"Best mIOU is {best_miou}\")\n",
        "      print(\"save model\")"
      ]
    },
    {
      "cell_type": "code",
      "execution_count": 14,
      "id": "7b0ea30b",
      "metadata": {
        "colab": {
          "base_uri": "https://localhost:8080/"
        },
        "id": "7b0ea30b",
        "outputId": "9143b8a4-7d9e-4818-c04b-debbad387f56"
      },
      "outputs": [
        {
          "output_type": "stream",
          "name": "stderr",
          "text": [
            "100%|██████████| 8/8 [00:02<00:00,  3.86it/s]"
          ]
        },
        {
          "output_type": "stream",
          "name": "stdout",
          "text": [
            "Val Loss: 0.4805, mIoU: 0.9074\n",
            "mIoU_base is:0.9073649048805237\n"
          ]
        },
        {
          "output_type": "stream",
          "name": "stderr",
          "text": [
            "\n"
          ]
        }
      ],
      "source": [
        "model.load_state_dict(torch.load('best_seg_model.pth'))\n",
        "_,val_best_miou = validate_seg(model, val_seg_loader, cfg[\"device\"])\n",
        "print(f\"mIoU_base is:{val_best_miou}\")"
      ]
    },
    {
      "cell_type": "markdown",
      "id": "4e44c601",
      "metadata": {
        "id": "4e44c601"
      },
      "source": [
        "# Det"
      ]
    },
    {
      "cell_type": "code",
      "execution_count": 15,
      "id": "493c85f6",
      "metadata": {
        "id": "493c85f6"
      },
      "outputs": [],
      "source": [
        "import torch\n",
        "from torch.utils.data import Dataset\n",
        "from PIL import Image\n",
        "import os, json\n",
        "import random\n",
        "import torchvision.transforms as T\n",
        "import torchvision.transforms.functional as TF\n",
        "\n",
        "class COCODetectionDataset(Dataset):\n",
        "    def __init__(self, img_dir, ann_path, det_cat_mapping, size=256):\n",
        "        self.img_dir = img_dir\n",
        "        self.ann_path = ann_path\n",
        "        self.size = size\n",
        "        self.det_cat_mapping = det_cat_mapping\n",
        "\n",
        "        with open(ann_path, 'r') as f:\n",
        "            coco = json.load(f)\n",
        "\n",
        "        self.id2file = {img['id']: img['file_name'] for img in coco['images']}\n",
        "\n",
        "        self.imgid2anns = {}\n",
        "        for ann in coco['annotations']:\n",
        "            if ann['iscrowd']:\n",
        "                continue\n",
        "            img_id = ann['image_id']\n",
        "            if img_id not in self.imgid2anns:\n",
        "                self.imgid2anns[img_id] = []\n",
        "            self.imgid2anns[img_id].append(ann)\n",
        "\n",
        "        self.image_ids = [k for k, v in self.imgid2anns.items() if len(v) > 0]\n",
        "\n",
        "        # 圖像增強設定\n",
        "        self.color_jitter = T.ColorJitter(brightness=0.3, contrast=0.3, saturation=0.3)\n",
        "\n",
        "    def __len__(self):\n",
        "        return len(self.image_ids)\n",
        "\n",
        "    def __getitem__(self, idx):\n",
        "        img_id = self.image_ids[idx]\n",
        "        file_name = self.id2file[img_id]\n",
        "        img_path = os.path.join(self.img_dir, file_name)\n",
        "\n",
        "        img = Image.open(img_path).convert(\"RGB\")\n",
        "        orig_w, orig_h = img.size\n",
        "\n",
        "        # 只取第一個 bbox\n",
        "        ann = self.imgid2anns[img_id][0]\n",
        "        x, y, w, h = ann['bbox']\n",
        "        x1, y1, x2, y2 = x, y, x + w, y + h\n",
        "\n",
        "        # 隨機水平翻轉\n",
        "        if random.random() < 0.5:\n",
        "            img = TF.hflip(img)\n",
        "            x1, x2 = orig_w - x2, orig_w - x1  # 對 x1,x2 做鏡像\n",
        "\n",
        "        # 隨機色彩抖動\n",
        "        if random.random() < 0.5:\n",
        "            img = self.color_jitter(img)\n",
        "\n",
        "        # Resize 並同步 bbox 縮放\n",
        "        img = TF.resize(img, (self.size, self.size))\n",
        "        scale_x = self.size / orig_w\n",
        "        scale_y = self.size / orig_h\n",
        "        x1 *= scale_x\n",
        "        x2 *= scale_x\n",
        "        y1 *= scale_y\n",
        "        y2 *= scale_y\n",
        "\n",
        "        box = torch.tensor([[x1, y1, x2, y2]], dtype=torch.float32)\n",
        "\n",
        "        original_id = ann['category_id']\n",
        "        label = self.det_cat_mapping.get(original_id, -1)\n",
        "        if label == -1:\n",
        "            raise ValueError(f\"Category ID {original_id} not in det_cat_mapping\")\n",
        "        label = torch.tensor([label], dtype=torch.int64)\n",
        "\n",
        "        img_tensor = TF.to_tensor(img)\n",
        "\n",
        "        target = {\n",
        "            \"boxes\": box,             # (1, 4)\n",
        "            \"labels\": label,          # (1,)\n",
        "            \"image_id\": torch.tensor([img_id])\n",
        "        }\n",
        "\n",
        "        return img_tensor, target\n",
        "\n"
      ]
    },
    {
      "cell_type": "code",
      "execution_count": 16,
      "id": "d02f0141",
      "metadata": {
        "colab": {
          "base_uri": "https://localhost:8080/"
        },
        "id": "d02f0141",
        "outputId": "5dd6c648-2980-427c-e153-cd92934c939f"
      },
      "outputs": [
        {
          "output_type": "execute_result",
          "data": {
            "text/plain": [
              "{5: 0, 70: 1, 7: 2, 11: 3, 13: 4, 16: 5, 85: 6, 23: 7, 24: 8, 25: 9}"
            ]
          },
          "metadata": {},
          "execution_count": 16
        }
      ],
      "source": [
        "import json\n",
        "\n",
        "# 開啟並讀取 json 檔\n",
        "with open(f'{data_root}/data/mini_coco_det/annotations/instances_train2017.json', 'r', encoding='utf-8') as f:\n",
        "    data = json.load(f)\n",
        "\n",
        "# 現在 data 是一個 Python 字典 (dict) 或列表 (list)\n",
        "\n",
        "\n",
        "cat_id=[]\n",
        "for i in range(len(data[\"annotations\"])):\n",
        "    cat_id.append(data[\"annotations\"][i][\"category_id\"])\n",
        "\n",
        "det_cat_mapping = {item: idx for idx, item in enumerate(set(cat_id))}\n",
        "det_cat_mapping"
      ]
    },
    {
      "cell_type": "code",
      "execution_count": 17,
      "id": "f3a53a5d",
      "metadata": {
        "id": "f3a53a5d"
      },
      "outputs": [],
      "source": [
        "rev_det_cat_mapping = {v: k for k, v in det_cat_mapping.items()}"
      ]
    },
    {
      "cell_type": "code",
      "execution_count": 18,
      "id": "61d410c1",
      "metadata": {
        "id": "61d410c1"
      },
      "outputs": [],
      "source": [
        "def collate_fn(batch):\n",
        "    imgs, targets = list(zip(*batch))\n",
        "    imgs = torch.stack(imgs, dim=0)\n",
        "    return imgs, list(targets)\n",
        "\n",
        "\n",
        "def decode_boxes(det_logits, anchors, stride=16):\n",
        "    \"\"\"\n",
        "    det_logits: (B, A*(5+C), H, W)\n",
        "    anchors: (A, 2) anchor 尺寸\n",
        "    return: decoded boxes in (B, A*H*W, 4), confs, class_probs\n",
        "    \"\"\"\n",
        "    B, _, H, W = det_logits.shape\n",
        "    A = anchors.shape[0]\n",
        "    C = det_logits.shape[1] // A - 5  # 推出 class 數\n",
        "\n",
        "    pred = det_logits.view(B, A, 5 + C, H, W).permute(0, 1, 3, 4, 2)  # (B,A,H,W,5+C)\n",
        "    tx, ty, tw, th, obj = pred[..., 0], pred[..., 1], pred[..., 2], pred[..., 3], pred[..., 4]\n",
        "    cls_logits = pred[..., 5:]\n",
        "\n",
        "    grid_y, grid_x = torch.meshgrid(torch.arange(H), torch.arange(W), indexing='ij')\n",
        "    grid = torch.stack((grid_x, grid_y), dim=-1).to(det_logits.device)  # (H,W,2)\n",
        "\n",
        "    # sigmoid + decode\n",
        "    cx = (grid[..., 0][None, None] + tx.sigmoid()) * stride\n",
        "    cy = (grid[..., 1][None, None] + ty.sigmoid()) * stride\n",
        "    w = (tw.exp() * anchors[:, 0][:, None, None]).to(det_logits.device)\n",
        "    h = (th.exp() * anchors[:, 1][:, None, None]).to(det_logits.device)\n",
        "\n",
        "    x1 = cx - w / 2\n",
        "    y1 = cy - h / 2\n",
        "    x2 = cx + w / 2\n",
        "    y2 = cy + h / 2\n",
        "\n",
        "    boxes = torch.stack([x1, y1, x2, y2], dim=-1)  # (B,A,H,W,4)\n",
        "    boxes = boxes.reshape(B, -1, 4)\n",
        "    confs = obj.sigmoid().reshape(B, -1)\n",
        "    class_probs = cls_logits.softmax(-1).reshape(B, -1, C)\n",
        "\n",
        "    return boxes, confs, class_probs\n",
        "\n",
        "\n",
        "def yolo_loss(det_logits, targets, anchors, num_classes,\n",
        "              img_size=img_size, lambda_coord=5.0, lambda_noobj=0.5):\n",
        "    B, _, H, W = det_logits.shape\n",
        "    A = anchors.shape[0]\n",
        "    device = det_logits.device\n",
        "    stride = img_size / H\n",
        "\n",
        "    pred = det_logits.view(B, A, 5 + num_classes, H, W).permute(0, 1, 3, 4, 2)\n",
        "\n",
        "    total_loss, bbox_loss, obj_loss, cls_loss = 0.0, 0.0, 0.0, 0.0\n",
        "\n",
        "    for i in range(B):\n",
        "        target = targets[i]\n",
        "        gt_box = target['boxes'][0]\n",
        "        gt_label = target['labels'][0]\n",
        "        anchors = anchors.to(gt_box.device)\n",
        "\n",
        "        cx = (gt_box[0] + gt_box[2]) / 2 / stride\n",
        "        cy = (gt_box[1] + gt_box[3]) / 2 / stride\n",
        "        w = (gt_box[2] - gt_box[0]) / anchors[:, 0]\n",
        "        h = (gt_box[3] - gt_box[1]) / anchors[:, 1]\n",
        "\n",
        "        gi, gj = int(cx), int(cy)\n",
        "\n",
        "        for a in range(A):\n",
        "            pred_a = pred[i, a, gj, gi]\n",
        "            pred_tx, pred_ty, pred_tw, pred_th, pred_obj = pred_a[:5]\n",
        "            pred_cls = pred_a[5:]\n",
        "\n",
        "            # 坐標損失 (tx, ty 是 sigmoid, tw, th 是 log-scale regression)\n",
        "            bbox_loss += lambda_coord * F.mse_loss(pred_tx.sigmoid(), cx - gi)\n",
        "            bbox_loss += lambda_coord * F.mse_loss(pred_ty.sigmoid(), cy - gj)\n",
        "            bbox_loss += lambda_coord * F.mse_loss(pred_tw, torch.log(w[a]))\n",
        "            bbox_loss += lambda_coord * F.mse_loss(pred_th, torch.log(h[a]))\n",
        "\n",
        "            # 物件性損失\n",
        "            obj_loss += F.binary_cross_entropy_with_logits(pred_obj, torch.tensor(1.0, device=device))\n",
        "\n",
        "            # 分類損失（使用 softmax + cross entropy）\n",
        "            cls_loss += F.cross_entropy(pred_cls.unsqueeze(0), gt_label.unsqueeze(0))\n",
        "\n",
        "    total_loss = bbox_loss + obj_loss + cls_loss\n",
        "    return total_loss / B, bbox_loss / B, obj_loss / B, cls_loss / B\n",
        "\n",
        "def train_one_epoch(model, dataloader, optimizer, anchors, num_classes, device):\n",
        "    model.train()\n",
        "    total_loss = 0.0\n",
        "\n",
        "    for imgs, targets in tqdm(dataloader):\n",
        "        imgs = imgs.to(device)\n",
        "        targets = [{k: v.to(device) for k, v in t.items()} for t in targets]\n",
        "\n",
        "        outputs = model(imgs)\n",
        "        det_logits = outputs['det']\n",
        "\n",
        "        loss, loss_bbox, loss_obj, loss_cls = yolo_loss(det_logits, targets, anchors, n_det_cls)\n",
        "\n",
        "        optimizer.zero_grad()\n",
        "        loss.backward()\n",
        "        optimizer.step()\n",
        "\n",
        "        #print(f\"Loss: {loss:.3f}, BBox: {loss_bbox:.3f}, Obj: {loss_obj:.3f}, Cls: {loss_cls:.3f}\")\n",
        "\n",
        "        total_loss += loss.item()\n",
        "\n",
        "    avg_loss = total_loss / len(dataloader)\n",
        "    return avg_loss\n",
        "\n",
        "def compute_iou(box1, box2):\n",
        "    \"\"\"\n",
        "    box1, box2: (4,) → [x1, y1, x2, y2]\n",
        "    \"\"\"\n",
        "    x1 = max(box1[0], box2[0])\n",
        "    y1 = max(box1[1], box2[1])\n",
        "    x2 = min(box1[2], box2[2])\n",
        "    y2 = min(box1[3], box2[3])\n",
        "\n",
        "    inter_area = max(x2 - x1, 0) * max(y2 - y1, 0)\n",
        "    area1 = (box1[2] - box1[0]) * (box1[3] - box1[1])\n",
        "    area2 = (box2[2] - box2[0]) * (box2[3] - box2[1])\n",
        "    union_area = area1 + area2 - inter_area\n",
        "\n",
        "    return inter_area / union_area if union_area > 0 else 0\n",
        "import torch\n",
        "from torchvision.ops import nms\n",
        "from tqdm import tqdm\n",
        "\n",
        "@torch.no_grad()\n",
        "def evaluate_map(model, val_loader, anchors, num_classes, device, iou_thresh=0.5, conf_thresh=0.5):\n",
        "    model.eval()\n",
        "    total = 0\n",
        "    correct = 0\n",
        "\n",
        "    for imgs, targets in tqdm(val_loader):\n",
        "        imgs = imgs.to(device)\n",
        "        targets = [{k: v.to(device) for k, v in t.items()} for t in targets]\n",
        "\n",
        "        outputs = model(imgs)\n",
        "        det_logits = outputs['det']  # (B, A*(5+C), H, W)\n",
        "\n",
        "        boxes, confs, class_probs = decode_boxes(det_logits, anchors.to(device))\n",
        "        pred_scores = confs * class_probs.max(dim=-1).values  # (B, N)\n",
        "        pred_labels = class_probs.argmax(dim=-1)              # (B, N)\n",
        "\n",
        "        for i in range(len(imgs)):\n",
        "            score = pred_scores[i]   # (N,)\n",
        "            label = pred_labels[i]   # (N,)\n",
        "            box = boxes[i]           # (N,4)\n",
        "\n",
        "            keep = score > conf_thresh\n",
        "            score = score[keep]\n",
        "            label = label[keep]\n",
        "            box = box[keep]\n",
        "\n",
        "            # NMS\n",
        "            if box.shape[0] > 0:\n",
        "                keep_idx = nms(box, score, iou_threshold=0.5)\n",
        "                box = box[keep_idx]\n",
        "                label = label[keep_idx]\n",
        "\n",
        "            # 只保留 top-1 預測\n",
        "            if box.shape[0] > 0:\n",
        "                pred_box = box[0].cpu()\n",
        "                pred_label = label[0].cpu().item()\n",
        "            else:\n",
        "                pred_box = None\n",
        "\n",
        "            gt_box = targets[i]['boxes'][0].cpu()\n",
        "            gt_label = targets[i]['labels'][0].cpu().item()\n",
        "            total += 1\n",
        "\n",
        "            if pred_box is not None:\n",
        "                iou = compute_iou(pred_box, gt_box)\n",
        "                if iou > iou_thresh and pred_label == gt_label:\n",
        "                    correct += 1\n",
        "\n",
        "    precision = correct / total\n",
        "    print(f\"mAP@0.5 (top-1 prediction only): {precision:.4f}\")\n",
        "    return precision"
      ]
    },
    {
      "cell_type": "code",
      "execution_count": 19,
      "id": "52609ba1",
      "metadata": {
        "id": "52609ba1"
      },
      "outputs": [],
      "source": [
        "# 凍結 blocks.0 和 blocks.1\n",
        "for name, param in model.backbone.named_parameters():\n",
        "    if 'blocks.0' in name or 'blocks.1' in name:\n",
        "        param.requires_grad = False\n",
        "\n",
        "\n",
        "for name, param in model.named_parameters():\n",
        "    if 'seg' in name or 'cls' in name:\n",
        "        param.requires_grad = False"
      ]
    },
    {
      "cell_type": "code",
      "execution_count": 20,
      "id": "eba8a6cf",
      "metadata": {
        "colab": {
          "base_uri": "https://localhost:8080/"
        },
        "id": "eba8a6cf",
        "outputId": "ad31483c-831d-4a59-a191-96e0fde59e12"
      },
      "outputs": [
        {
          "output_type": "stream",
          "name": "stderr",
          "text": [
            "100%|██████████| 15/15 [00:04<00:00,  3.58it/s]\n"
          ]
        },
        {
          "output_type": "stream",
          "name": "stdout",
          "text": [
            "Epoch 1, Loss: 164.0579\n"
          ]
        },
        {
          "output_type": "stream",
          "name": "stderr",
          "text": [
            "100%|██████████| 4/4 [00:01<00:00,  3.71it/s]\n"
          ]
        },
        {
          "output_type": "stream",
          "name": "stdout",
          "text": [
            "mAP@0.5 (top-1 prediction only): 0.0000\n"
          ]
        },
        {
          "output_type": "stream",
          "name": "stderr",
          "text": [
            "100%|██████████| 15/15 [00:03<00:00,  3.83it/s]\n"
          ]
        },
        {
          "output_type": "stream",
          "name": "stdout",
          "text": [
            "Epoch 2, Loss: 23.7592\n"
          ]
        },
        {
          "output_type": "stream",
          "name": "stderr",
          "text": [
            "100%|██████████| 4/4 [00:01<00:00,  3.06it/s]\n"
          ]
        },
        {
          "output_type": "stream",
          "name": "stdout",
          "text": [
            "mAP@0.5 (top-1 prediction only): 0.0000\n"
          ]
        },
        {
          "output_type": "stream",
          "name": "stderr",
          "text": [
            "100%|██████████| 15/15 [00:04<00:00,  3.40it/s]\n"
          ]
        },
        {
          "output_type": "stream",
          "name": "stdout",
          "text": [
            "Epoch 3, Loss: 17.0623\n"
          ]
        },
        {
          "output_type": "stream",
          "name": "stderr",
          "text": [
            "100%|██████████| 4/4 [00:00<00:00,  4.74it/s]\n"
          ]
        },
        {
          "output_type": "stream",
          "name": "stdout",
          "text": [
            "mAP@0.5 (top-1 prediction only): 0.0000\n"
          ]
        },
        {
          "output_type": "stream",
          "name": "stderr",
          "text": [
            "100%|██████████| 15/15 [00:03<00:00,  3.85it/s]\n"
          ]
        },
        {
          "output_type": "stream",
          "name": "stdout",
          "text": [
            "Epoch 4, Loss: 14.2155\n"
          ]
        },
        {
          "output_type": "stream",
          "name": "stderr",
          "text": [
            "100%|██████████| 4/4 [00:00<00:00,  4.68it/s]\n"
          ]
        },
        {
          "output_type": "stream",
          "name": "stdout",
          "text": [
            "mAP@0.5 (top-1 prediction only): 0.0000\n"
          ]
        },
        {
          "output_type": "stream",
          "name": "stderr",
          "text": [
            "100%|██████████| 15/15 [00:04<00:00,  3.00it/s]\n"
          ]
        },
        {
          "output_type": "stream",
          "name": "stdout",
          "text": [
            "Epoch 5, Loss: 11.3189\n"
          ]
        },
        {
          "output_type": "stream",
          "name": "stderr",
          "text": [
            "100%|██████████| 4/4 [00:00<00:00,  4.90it/s]\n"
          ]
        },
        {
          "output_type": "stream",
          "name": "stdout",
          "text": [
            "mAP@0.5 (top-1 prediction only): 0.0167\n",
            "Best mAP is 0.016666666666666666\n",
            "save model\n"
          ]
        },
        {
          "output_type": "stream",
          "name": "stderr",
          "text": [
            "100%|██████████| 15/15 [00:03<00:00,  3.82it/s]\n"
          ]
        },
        {
          "output_type": "stream",
          "name": "stdout",
          "text": [
            "Epoch 6, Loss: 10.6946\n"
          ]
        },
        {
          "output_type": "stream",
          "name": "stderr",
          "text": [
            "100%|██████████| 4/4 [00:00<00:00,  4.69it/s]\n"
          ]
        },
        {
          "output_type": "stream",
          "name": "stdout",
          "text": [
            "mAP@0.5 (top-1 prediction only): 0.0500\n",
            "Best mAP is 0.05\n",
            "save model\n"
          ]
        },
        {
          "output_type": "stream",
          "name": "stderr",
          "text": [
            "100%|██████████| 15/15 [00:03<00:00,  3.76it/s]\n"
          ]
        },
        {
          "output_type": "stream",
          "name": "stdout",
          "text": [
            "Epoch 7, Loss: 8.8830\n"
          ]
        },
        {
          "output_type": "stream",
          "name": "stderr",
          "text": [
            "100%|██████████| 4/4 [00:01<00:00,  2.86it/s]\n"
          ]
        },
        {
          "output_type": "stream",
          "name": "stdout",
          "text": [
            "mAP@0.5 (top-1 prediction only): 0.1000\n",
            "Best mAP is 0.1\n",
            "save model\n"
          ]
        },
        {
          "output_type": "stream",
          "name": "stderr",
          "text": [
            "100%|██████████| 15/15 [00:03<00:00,  3.80it/s]\n"
          ]
        },
        {
          "output_type": "stream",
          "name": "stdout",
          "text": [
            "Epoch 8, Loss: 8.3801\n"
          ]
        },
        {
          "output_type": "stream",
          "name": "stderr",
          "text": [
            "100%|██████████| 4/4 [00:00<00:00,  4.59it/s]\n"
          ]
        },
        {
          "output_type": "stream",
          "name": "stdout",
          "text": [
            "mAP@0.5 (top-1 prediction only): 0.1333\n",
            "Best mAP is 0.13333333333333333\n",
            "save model\n"
          ]
        },
        {
          "output_type": "stream",
          "name": "stderr",
          "text": [
            "100%|██████████| 15/15 [00:03<00:00,  3.85it/s]\n"
          ]
        },
        {
          "output_type": "stream",
          "name": "stdout",
          "text": [
            "Epoch 9, Loss: 7.9210\n"
          ]
        },
        {
          "output_type": "stream",
          "name": "stderr",
          "text": [
            "100%|██████████| 4/4 [00:00<00:00,  4.30it/s]\n"
          ]
        },
        {
          "output_type": "stream",
          "name": "stdout",
          "text": [
            "mAP@0.5 (top-1 prediction only): 0.0667\n"
          ]
        },
        {
          "output_type": "stream",
          "name": "stderr",
          "text": [
            "100%|██████████| 15/15 [00:04<00:00,  3.00it/s]\n"
          ]
        },
        {
          "output_type": "stream",
          "name": "stdout",
          "text": [
            "Epoch 10, Loss: 7.4197\n"
          ]
        },
        {
          "output_type": "stream",
          "name": "stderr",
          "text": [
            "100%|██████████| 4/4 [00:00<00:00,  4.76it/s]\n"
          ]
        },
        {
          "output_type": "stream",
          "name": "stdout",
          "text": [
            "mAP@0.5 (top-1 prediction only): 0.2000\n",
            "Best mAP is 0.2\n",
            "save model\n"
          ]
        },
        {
          "output_type": "stream",
          "name": "stderr",
          "text": [
            "100%|██████████| 15/15 [00:03<00:00,  3.87it/s]\n"
          ]
        },
        {
          "output_type": "stream",
          "name": "stdout",
          "text": [
            "Epoch 11, Loss: 6.7507\n"
          ]
        },
        {
          "output_type": "stream",
          "name": "stderr",
          "text": [
            "100%|██████████| 4/4 [00:00<00:00,  4.66it/s]\n"
          ]
        },
        {
          "output_type": "stream",
          "name": "stdout",
          "text": [
            "mAP@0.5 (top-1 prediction only): 0.1500\n"
          ]
        },
        {
          "output_type": "stream",
          "name": "stderr",
          "text": [
            "100%|██████████| 15/15 [00:04<00:00,  3.18it/s]\n"
          ]
        },
        {
          "output_type": "stream",
          "name": "stdout",
          "text": [
            "Epoch 12, Loss: 5.7735\n"
          ]
        },
        {
          "output_type": "stream",
          "name": "stderr",
          "text": [
            "100%|██████████| 4/4 [00:00<00:00,  4.49it/s]\n"
          ]
        },
        {
          "output_type": "stream",
          "name": "stdout",
          "text": [
            "mAP@0.5 (top-1 prediction only): 0.2167\n",
            "Best mAP is 0.21666666666666667\n",
            "save model\n"
          ]
        },
        {
          "output_type": "stream",
          "name": "stderr",
          "text": [
            "100%|██████████| 15/15 [00:03<00:00,  3.78it/s]\n"
          ]
        },
        {
          "output_type": "stream",
          "name": "stdout",
          "text": [
            "Epoch 13, Loss: 5.1475\n"
          ]
        },
        {
          "output_type": "stream",
          "name": "stderr",
          "text": [
            "100%|██████████| 4/4 [00:00<00:00,  4.50it/s]\n"
          ]
        },
        {
          "output_type": "stream",
          "name": "stdout",
          "text": [
            "mAP@0.5 (top-1 prediction only): 0.1833\n"
          ]
        },
        {
          "output_type": "stream",
          "name": "stderr",
          "text": [
            "100%|██████████| 15/15 [00:03<00:00,  3.88it/s]\n"
          ]
        },
        {
          "output_type": "stream",
          "name": "stdout",
          "text": [
            "Epoch 14, Loss: 4.8211\n"
          ]
        },
        {
          "output_type": "stream",
          "name": "stderr",
          "text": [
            "100%|██████████| 4/4 [00:01<00:00,  3.35it/s]\n"
          ]
        },
        {
          "output_type": "stream",
          "name": "stdout",
          "text": [
            "mAP@0.5 (top-1 prediction only): 0.2333\n",
            "Best mAP is 0.23333333333333334\n",
            "save model\n"
          ]
        },
        {
          "output_type": "stream",
          "name": "stderr",
          "text": [
            "100%|██████████| 15/15 [00:04<00:00,  3.21it/s]\n"
          ]
        },
        {
          "output_type": "stream",
          "name": "stdout",
          "text": [
            "Epoch 15, Loss: 4.6537\n"
          ]
        },
        {
          "output_type": "stream",
          "name": "stderr",
          "text": [
            "100%|██████████| 4/4 [00:00<00:00,  4.50it/s]\n"
          ]
        },
        {
          "output_type": "stream",
          "name": "stdout",
          "text": [
            "mAP@0.5 (top-1 prediction only): 0.2333\n"
          ]
        },
        {
          "output_type": "stream",
          "name": "stderr",
          "text": [
            "100%|██████████| 15/15 [00:03<00:00,  3.78it/s]\n"
          ]
        },
        {
          "output_type": "stream",
          "name": "stdout",
          "text": [
            "Epoch 16, Loss: 3.5578\n"
          ]
        },
        {
          "output_type": "stream",
          "name": "stderr",
          "text": [
            "100%|██████████| 4/4 [00:00<00:00,  4.50it/s]\n"
          ]
        },
        {
          "output_type": "stream",
          "name": "stdout",
          "text": [
            "mAP@0.5 (top-1 prediction only): 0.2833\n",
            "Best mAP is 0.2833333333333333\n",
            "save model\n"
          ]
        },
        {
          "output_type": "stream",
          "name": "stderr",
          "text": [
            "100%|██████████| 15/15 [00:04<00:00,  3.00it/s]\n"
          ]
        },
        {
          "output_type": "stream",
          "name": "stdout",
          "text": [
            "Epoch 17, Loss: 3.3324\n"
          ]
        },
        {
          "output_type": "stream",
          "name": "stderr",
          "text": [
            "100%|██████████| 4/4 [00:00<00:00,  4.79it/s]\n"
          ]
        },
        {
          "output_type": "stream",
          "name": "stdout",
          "text": [
            "mAP@0.5 (top-1 prediction only): 0.2333\n"
          ]
        },
        {
          "output_type": "stream",
          "name": "stderr",
          "text": [
            "100%|██████████| 15/15 [00:03<00:00,  3.84it/s]\n"
          ]
        },
        {
          "output_type": "stream",
          "name": "stdout",
          "text": [
            "Epoch 18, Loss: 3.0128\n"
          ]
        },
        {
          "output_type": "stream",
          "name": "stderr",
          "text": [
            "100%|██████████| 4/4 [00:00<00:00,  4.83it/s]\n"
          ]
        },
        {
          "output_type": "stream",
          "name": "stdout",
          "text": [
            "mAP@0.5 (top-1 prediction only): 0.3000\n",
            "Best mAP is 0.3\n",
            "save model\n"
          ]
        },
        {
          "output_type": "stream",
          "name": "stderr",
          "text": [
            "100%|██████████| 15/15 [00:04<00:00,  3.53it/s]\n"
          ]
        },
        {
          "output_type": "stream",
          "name": "stdout",
          "text": [
            "Epoch 19, Loss: 2.4909\n"
          ]
        },
        {
          "output_type": "stream",
          "name": "stderr",
          "text": [
            "100%|██████████| 4/4 [00:01<00:00,  3.05it/s]\n"
          ]
        },
        {
          "output_type": "stream",
          "name": "stdout",
          "text": [
            "mAP@0.5 (top-1 prediction only): 0.3333\n",
            "Best mAP is 0.3333333333333333\n",
            "save model\n"
          ]
        },
        {
          "output_type": "stream",
          "name": "stderr",
          "text": [
            "100%|██████████| 15/15 [00:03<00:00,  3.81it/s]\n"
          ]
        },
        {
          "output_type": "stream",
          "name": "stdout",
          "text": [
            "Epoch 20, Loss: 2.0720\n"
          ]
        },
        {
          "output_type": "stream",
          "name": "stderr",
          "text": [
            "100%|██████████| 4/4 [00:00<00:00,  4.48it/s]\n"
          ]
        },
        {
          "output_type": "stream",
          "name": "stdout",
          "text": [
            "mAP@0.5 (top-1 prediction only): 0.2667\n"
          ]
        },
        {
          "output_type": "stream",
          "name": "stderr",
          "text": [
            "100%|██████████| 15/15 [00:03<00:00,  3.77it/s]\n"
          ]
        },
        {
          "output_type": "stream",
          "name": "stdout",
          "text": [
            "Epoch 21, Loss: 1.8259\n"
          ]
        },
        {
          "output_type": "stream",
          "name": "stderr",
          "text": [
            "100%|██████████| 4/4 [00:00<00:00,  4.74it/s]\n"
          ]
        },
        {
          "output_type": "stream",
          "name": "stdout",
          "text": [
            "mAP@0.5 (top-1 prediction only): 0.2667\n"
          ]
        },
        {
          "output_type": "stream",
          "name": "stderr",
          "text": [
            "100%|██████████| 15/15 [00:04<00:00,  3.03it/s]\n"
          ]
        },
        {
          "output_type": "stream",
          "name": "stdout",
          "text": [
            "Epoch 22, Loss: 1.5305\n"
          ]
        },
        {
          "output_type": "stream",
          "name": "stderr",
          "text": [
            "100%|██████████| 4/4 [00:00<00:00,  4.33it/s]\n"
          ]
        },
        {
          "output_type": "stream",
          "name": "stdout",
          "text": [
            "mAP@0.5 (top-1 prediction only): 0.2833\n"
          ]
        },
        {
          "output_type": "stream",
          "name": "stderr",
          "text": [
            "100%|██████████| 15/15 [00:03<00:00,  3.82it/s]\n"
          ]
        },
        {
          "output_type": "stream",
          "name": "stdout",
          "text": [
            "Epoch 23, Loss: 1.5451\n"
          ]
        },
        {
          "output_type": "stream",
          "name": "stderr",
          "text": [
            "100%|██████████| 4/4 [00:00<00:00,  4.42it/s]\n"
          ]
        },
        {
          "output_type": "stream",
          "name": "stdout",
          "text": [
            "mAP@0.5 (top-1 prediction only): 0.3000\n"
          ]
        },
        {
          "output_type": "stream",
          "name": "stderr",
          "text": [
            "100%|██████████| 15/15 [00:04<00:00,  3.06it/s]\n"
          ]
        },
        {
          "output_type": "stream",
          "name": "stdout",
          "text": [
            "Epoch 24, Loss: 1.2699\n"
          ]
        },
        {
          "output_type": "stream",
          "name": "stderr",
          "text": [
            "100%|██████████| 4/4 [00:00<00:00,  4.82it/s]\n"
          ]
        },
        {
          "output_type": "stream",
          "name": "stdout",
          "text": [
            "mAP@0.5 (top-1 prediction only): 0.2333\n"
          ]
        },
        {
          "output_type": "stream",
          "name": "stderr",
          "text": [
            "100%|██████████| 15/15 [00:03<00:00,  3.85it/s]\n"
          ]
        },
        {
          "output_type": "stream",
          "name": "stdout",
          "text": [
            "Epoch 25, Loss: 1.3566\n"
          ]
        },
        {
          "output_type": "stream",
          "name": "stderr",
          "text": [
            "100%|██████████| 4/4 [00:00<00:00,  4.60it/s]\n"
          ]
        },
        {
          "output_type": "stream",
          "name": "stdout",
          "text": [
            "mAP@0.5 (top-1 prediction only): 0.3000\n"
          ]
        },
        {
          "output_type": "stream",
          "name": "stderr",
          "text": [
            "100%|██████████| 15/15 [00:03<00:00,  3.86it/s]\n"
          ]
        },
        {
          "output_type": "stream",
          "name": "stdout",
          "text": [
            "Epoch 26, Loss: 1.1283\n"
          ]
        },
        {
          "output_type": "stream",
          "name": "stderr",
          "text": [
            "100%|██████████| 4/4 [00:01<00:00,  3.49it/s]\n"
          ]
        },
        {
          "output_type": "stream",
          "name": "stdout",
          "text": [
            "mAP@0.5 (top-1 prediction only): 0.2833\n"
          ]
        },
        {
          "output_type": "stream",
          "name": "stderr",
          "text": [
            "100%|██████████| 15/15 [00:04<00:00,  3.15it/s]\n"
          ]
        },
        {
          "output_type": "stream",
          "name": "stdout",
          "text": [
            "Epoch 27, Loss: 1.2494\n"
          ]
        },
        {
          "output_type": "stream",
          "name": "stderr",
          "text": [
            "100%|██████████| 4/4 [00:00<00:00,  4.50it/s]\n"
          ]
        },
        {
          "output_type": "stream",
          "name": "stdout",
          "text": [
            "mAP@0.5 (top-1 prediction only): 0.2333\n"
          ]
        },
        {
          "output_type": "stream",
          "name": "stderr",
          "text": [
            "100%|██████████| 15/15 [00:03<00:00,  3.78it/s]\n"
          ]
        },
        {
          "output_type": "stream",
          "name": "stdout",
          "text": [
            "Epoch 28, Loss: 1.0332\n"
          ]
        },
        {
          "output_type": "stream",
          "name": "stderr",
          "text": [
            "100%|██████████| 4/4 [00:00<00:00,  4.74it/s]\n"
          ]
        },
        {
          "output_type": "stream",
          "name": "stdout",
          "text": [
            "mAP@0.5 (top-1 prediction only): 0.3500\n",
            "Best mAP is 0.35\n",
            "save model\n"
          ]
        },
        {
          "output_type": "stream",
          "name": "stderr",
          "text": [
            "100%|██████████| 15/15 [00:04<00:00,  3.02it/s]\n"
          ]
        },
        {
          "output_type": "stream",
          "name": "stdout",
          "text": [
            "Epoch 29, Loss: 0.9143\n"
          ]
        },
        {
          "output_type": "stream",
          "name": "stderr",
          "text": [
            "100%|██████████| 4/4 [00:00<00:00,  4.49it/s]\n"
          ]
        },
        {
          "output_type": "stream",
          "name": "stdout",
          "text": [
            "mAP@0.5 (top-1 prediction only): 0.2167\n"
          ]
        },
        {
          "output_type": "stream",
          "name": "stderr",
          "text": [
            "100%|██████████| 15/15 [00:03<00:00,  3.80it/s]\n"
          ]
        },
        {
          "output_type": "stream",
          "name": "stdout",
          "text": [
            "Epoch 30, Loss: 0.8106\n"
          ]
        },
        {
          "output_type": "stream",
          "name": "stderr",
          "text": [
            "100%|██████████| 4/4 [00:00<00:00,  4.53it/s]\n"
          ]
        },
        {
          "output_type": "stream",
          "name": "stdout",
          "text": [
            "mAP@0.5 (top-1 prediction only): 0.2833\n"
          ]
        },
        {
          "output_type": "stream",
          "name": "stderr",
          "text": [
            "100%|██████████| 15/15 [00:04<00:00,  3.62it/s]\n"
          ]
        },
        {
          "output_type": "stream",
          "name": "stdout",
          "text": [
            "Epoch 31, Loss: 0.8552\n"
          ]
        },
        {
          "output_type": "stream",
          "name": "stderr",
          "text": [
            "100%|██████████| 4/4 [00:01<00:00,  2.96it/s]\n"
          ]
        },
        {
          "output_type": "stream",
          "name": "stdout",
          "text": [
            "mAP@0.5 (top-1 prediction only): 0.3167\n"
          ]
        },
        {
          "output_type": "stream",
          "name": "stderr",
          "text": [
            "100%|██████████| 15/15 [00:04<00:00,  3.69it/s]\n"
          ]
        },
        {
          "output_type": "stream",
          "name": "stdout",
          "text": [
            "Epoch 32, Loss: 0.9143\n"
          ]
        },
        {
          "output_type": "stream",
          "name": "stderr",
          "text": [
            "100%|██████████| 4/4 [00:00<00:00,  4.36it/s]\n"
          ]
        },
        {
          "output_type": "stream",
          "name": "stdout",
          "text": [
            "mAP@0.5 (top-1 prediction only): 0.3167\n"
          ]
        },
        {
          "output_type": "stream",
          "name": "stderr",
          "text": [
            "100%|██████████| 15/15 [00:03<00:00,  3.77it/s]\n"
          ]
        },
        {
          "output_type": "stream",
          "name": "stdout",
          "text": [
            "Epoch 33, Loss: 0.8138\n"
          ]
        },
        {
          "output_type": "stream",
          "name": "stderr",
          "text": [
            "100%|██████████| 4/4 [00:00<00:00,  4.50it/s]\n"
          ]
        },
        {
          "output_type": "stream",
          "name": "stdout",
          "text": [
            "mAP@0.5 (top-1 prediction only): 0.3333\n"
          ]
        },
        {
          "output_type": "stream",
          "name": "stderr",
          "text": [
            "100%|██████████| 15/15 [00:04<00:00,  3.05it/s]\n"
          ]
        },
        {
          "output_type": "stream",
          "name": "stdout",
          "text": [
            "Epoch 34, Loss: 0.7266\n"
          ]
        },
        {
          "output_type": "stream",
          "name": "stderr",
          "text": [
            "100%|██████████| 4/4 [00:00<00:00,  4.35it/s]\n"
          ]
        },
        {
          "output_type": "stream",
          "name": "stdout",
          "text": [
            "mAP@0.5 (top-1 prediction only): 0.2667\n"
          ]
        },
        {
          "output_type": "stream",
          "name": "stderr",
          "text": [
            "100%|██████████| 15/15 [00:03<00:00,  3.89it/s]\n"
          ]
        },
        {
          "output_type": "stream",
          "name": "stdout",
          "text": [
            "Epoch 35, Loss: 0.8513\n"
          ]
        },
        {
          "output_type": "stream",
          "name": "stderr",
          "text": [
            "100%|██████████| 4/4 [00:00<00:00,  4.66it/s]\n"
          ]
        },
        {
          "output_type": "stream",
          "name": "stdout",
          "text": [
            "mAP@0.5 (top-1 prediction only): 0.3167\n"
          ]
        },
        {
          "output_type": "stream",
          "name": "stderr",
          "text": [
            "100%|██████████| 15/15 [00:04<00:00,  3.31it/s]\n"
          ]
        },
        {
          "output_type": "stream",
          "name": "stdout",
          "text": [
            "Epoch 36, Loss: 1.2473\n"
          ]
        },
        {
          "output_type": "stream",
          "name": "stderr",
          "text": [
            "100%|██████████| 4/4 [00:01<00:00,  3.70it/s]\n"
          ]
        },
        {
          "output_type": "stream",
          "name": "stdout",
          "text": [
            "mAP@0.5 (top-1 prediction only): 0.3500\n"
          ]
        },
        {
          "output_type": "stream",
          "name": "stderr",
          "text": [
            "100%|██████████| 15/15 [00:03<00:00,  3.76it/s]\n"
          ]
        },
        {
          "output_type": "stream",
          "name": "stdout",
          "text": [
            "Epoch 37, Loss: 0.8376\n"
          ]
        },
        {
          "output_type": "stream",
          "name": "stderr",
          "text": [
            "100%|██████████| 4/4 [00:00<00:00,  4.50it/s]\n"
          ]
        },
        {
          "output_type": "stream",
          "name": "stdout",
          "text": [
            "mAP@0.5 (top-1 prediction only): 0.3333\n"
          ]
        },
        {
          "output_type": "stream",
          "name": "stderr",
          "text": [
            "100%|██████████| 15/15 [00:04<00:00,  3.69it/s]\n"
          ]
        },
        {
          "output_type": "stream",
          "name": "stdout",
          "text": [
            "Epoch 38, Loss: 0.7445\n"
          ]
        },
        {
          "output_type": "stream",
          "name": "stderr",
          "text": [
            "100%|██████████| 4/4 [00:00<00:00,  4.10it/s]\n"
          ]
        },
        {
          "output_type": "stream",
          "name": "stdout",
          "text": [
            "mAP@0.5 (top-1 prediction only): 0.2167\n"
          ]
        },
        {
          "output_type": "stream",
          "name": "stderr",
          "text": [
            "100%|██████████| 15/15 [00:04<00:00,  3.07it/s]\n"
          ]
        },
        {
          "output_type": "stream",
          "name": "stdout",
          "text": [
            "Epoch 39, Loss: 0.9583\n"
          ]
        },
        {
          "output_type": "stream",
          "name": "stderr",
          "text": [
            "100%|██████████| 4/4 [00:00<00:00,  4.65it/s]\n"
          ]
        },
        {
          "output_type": "stream",
          "name": "stdout",
          "text": [
            "mAP@0.5 (top-1 prediction only): 0.3000\n"
          ]
        },
        {
          "output_type": "stream",
          "name": "stderr",
          "text": [
            "100%|██████████| 15/15 [00:03<00:00,  3.81it/s]\n"
          ]
        },
        {
          "output_type": "stream",
          "name": "stdout",
          "text": [
            "Epoch 40, Loss: 0.7625\n"
          ]
        },
        {
          "output_type": "stream",
          "name": "stderr",
          "text": [
            "100%|██████████| 4/4 [00:00<00:00,  4.88it/s]"
          ]
        },
        {
          "output_type": "stream",
          "name": "stdout",
          "text": [
            "mAP@0.5 (top-1 prediction only): 0.3167\n"
          ]
        },
        {
          "output_type": "stream",
          "name": "stderr",
          "text": [
            "\n"
          ]
        }
      ],
      "source": [
        "import torch.optim as optim\n",
        "# 初始化\n",
        "device = torch.device(\"cuda\" if torch.cuda.is_available() else \"cpu\")\n",
        "\n",
        "n_det_cls = len(det_cat_mapping)  # 假設 det_cat_mapping: 原始ID → 0開始\n",
        "n_anchor = 3\n",
        "anchors = torch.tensor([[1.0, 1.0], [2.0, 2.0], [0.5, 0.5]])  # (A, 2)\n",
        "\n",
        "#model = UniHeadNet(n_det_cls=n_det_cls, n_anchor=n_anchor).to(device)\n",
        "\n",
        "# Dataset / Dataloader\n",
        "train_dataset = COCODetectionDataset(\n",
        "    img_dir=f'{data_root}/data/mini_coco_det/train',\n",
        "    ann_path=f'{data_root}/data/mini_coco_det/annotations/instances_train2017.json',\n",
        "    det_cat_mapping=det_cat_mapping,\n",
        "    size=img_size\n",
        ")\n",
        "\n",
        "val_dataset = COCODetectionDataset(\n",
        "    img_dir=f'{data_root}/data/mini_coco_det/val',\n",
        "    ann_path=f'{data_root}/data/mini_coco_det/annotations/instances_val2017.json',\n",
        "    det_cat_mapping=det_cat_mapping,\n",
        "    size=img_size\n",
        ")\n",
        "\n",
        "train_loader = DataLoader(\n",
        "    train_dataset, batch_size=16, shuffle=True,\n",
        "    collate_fn=collate_fn, num_workers=2\n",
        ")\n",
        "val_det_loader = DataLoader(\n",
        "    val_dataset, batch_size=16, shuffle=False,\n",
        "    collate_fn=collate_fn, num_workers=2\n",
        ")\n",
        "optimizer = optim.Adam(model.parameters(), lr=2e-3)\n",
        "\n",
        "\n",
        "best_mAP=0\n",
        "for epoch in range(40):\n",
        "    loss = train_one_epoch(model, train_loader, optimizer,\n",
        "                           anchors=anchors, num_classes=n_det_cls, device=device)\n",
        "    print(f\"Epoch {epoch+1}, Loss: {loss:.4f}\")\n",
        "    #map50 = evaluate_map(model, train_loader, anchors, num_classes=n_det_cls, device=device)\n",
        "    map50 = evaluate_map(model, val_det_loader, anchors, num_classes=n_det_cls, device=device)\n",
        "\n",
        "    if map50 > best_mAP:\n",
        "      best_mAP = map50\n",
        "      torch.save(model.state_dict(), 'best_det_model.pth')\n",
        "      print(f\"Best mAP is {best_mAP}\")\n",
        "      print(\"save model\")"
      ]
    },
    {
      "cell_type": "code",
      "execution_count": 21,
      "id": "c82c2641",
      "metadata": {
        "colab": {
          "base_uri": "https://localhost:8080/"
        },
        "id": "c82c2641",
        "outputId": "81c29774-797a-4b8a-91c3-cce8cf2214a3"
      },
      "outputs": [
        {
          "output_type": "stream",
          "name": "stderr",
          "text": [
            "100%|██████████| 4/4 [00:00<00:00,  4.56it/s]\n"
          ]
        },
        {
          "output_type": "stream",
          "name": "stdout",
          "text": [
            "mAP@0.5 (top-1 prediction only): 0.3167\n",
            "mAP_base is:0.31666666666666665\n"
          ]
        },
        {
          "output_type": "stream",
          "name": "stderr",
          "text": [
            "100%|██████████| 8/8 [00:02<00:00,  3.98it/s]"
          ]
        },
        {
          "output_type": "stream",
          "name": "stdout",
          "text": [
            "Val Loss: 0.5360, mIoU: 0.9301\n",
            "mIoU_drop is:0.9301023855805397\n"
          ]
        },
        {
          "output_type": "stream",
          "name": "stderr",
          "text": [
            "\n"
          ]
        }
      ],
      "source": [
        "model.load_state_dict(torch.load('best_det_model.pth'))\n",
        "model.eval()\n",
        "val_mAP=evaluate_map(model, val_det_loader, anchors, num_classes=n_det_cls, device=device)\n",
        "print(f\"mAP_base is:{val_mAP}\")\n",
        "\n",
        "\n",
        "_,val_miou =validate_seg(model, val_seg_loader, cfg[\"device\"])\n",
        "\n",
        "print(f\"mIoU_drop is:{val_miou}\")"
      ]
    },
    {
      "cell_type": "code",
      "execution_count": 21,
      "id": "aa389f95",
      "metadata": {
        "id": "aa389f95"
      },
      "outputs": [],
      "source": [
        "\n"
      ]
    },
    {
      "cell_type": "markdown",
      "id": "6c31f28f",
      "metadata": {
        "id": "6c31f28f"
      },
      "source": [
        "# cls"
      ]
    },
    {
      "cell_type": "code",
      "execution_count": 22,
      "id": "52fc56b0",
      "metadata": {
        "id": "52fc56b0"
      },
      "outputs": [],
      "source": [
        "from torch.utils.data import Dataset\n",
        "from torchvision import transforms\n",
        "from pathlib import Path\n",
        "from PIL import Image\n",
        "\n",
        "\n",
        "from torchvision import transforms\n",
        "\n",
        "train_transform = transforms.Compose([\n",
        "    transforms.RandomResizedCrop(img_size, scale=(0.5, 1.0)),\n",
        "    transforms.RandomApply([\n",
        "        transforms.CenterCrop(224),\n",
        "        transforms.Resize((img_size, img_size))\n",
        "    ], p=0.8),  # 80% 機率強制視野遮蔽（模仿 occlusion）\n",
        "\n",
        "    transforms.RandomHorizontalFlip(),\n",
        "    transforms.RandomVerticalFlip(p=0.2),\n",
        "    transforms.RandomRotation(25),\n",
        "\n",
        "    transforms.ColorJitter(brightness=0.5, contrast=0.5, saturation=0.4, hue=0.1),\n",
        "    transforms.RandomGrayscale(p=0.1),\n",
        "\n",
        "    transforms.GaussianBlur(kernel_size=5, sigma=(0.1, 2.0)),\n",
        "#     transforms.RandomApply([\n",
        "#         transforms.Lambda(lambda x: TF.adjust_sharpness(x, sharpness_factor=2))\n",
        "#     ], p=0.3),\n",
        "\n",
        "    transforms.ToTensor(),\n",
        "\n",
        "    # Normalize (ImageNet)\n",
        "    transforms.Normalize(mean=[0.485, 0.456, 0.406],\n",
        "                         std=[0.229, 0.224, 0.225])\n",
        "])\n",
        "\n",
        "val_transform = transforms.Compose([\n",
        "    transforms.Resize((img_size, img_size)),\n",
        "    transforms.ToTensor(),\n",
        "    transforms.Normalize(mean=[0.485, 0.456, 0.406],\n",
        "                         std=[0.229, 0.224, 0.225])\n",
        "])\n",
        "\n",
        "class ImageClsDataset(Dataset):\n",
        "    def __init__(self, root, transform):\n",
        "        self.root = Path(root)\n",
        "        self.paths = list(self.root.glob(\"*/*.jpeg\"))\n",
        "        self.transform = transform\n",
        "\n",
        "    def __getitem__(self, idx):\n",
        "        img_path = self.paths[idx]\n",
        "        label = int(img_path.parent.name)\n",
        "        img = Image.open(img_path).convert(\"RGB\")\n",
        "        img = self.transform(img)\n",
        "        return img, label\n",
        "\n",
        "    def __len__(self):\n",
        "        return len(self.paths)"
      ]
    },
    {
      "cell_type": "code",
      "execution_count": 23,
      "id": "60304a5d",
      "metadata": {
        "id": "60304a5d"
      },
      "outputs": [],
      "source": [
        "\n",
        "train_ds = ImageClsDataset(f\"{data_root}/data/imagenette_160/train\", transform=train_transform)\n",
        "val_ds   = ImageClsDataset(f\"{data_root}/data/imagenette_160/val\",   transform=val_transform)\n",
        "\n",
        "train_dl = DataLoader(train_ds, batch_size=4, shuffle=True,  num_workers=2)\n",
        "val_dl   = DataLoader(val_ds,   batch_size=16, shuffle=False, num_workers=2)"
      ]
    },
    {
      "cell_type": "code",
      "execution_count": 24,
      "id": "4536a97d",
      "metadata": {
        "id": "4536a97d"
      },
      "outputs": [],
      "source": [
        "def train_epoch(model, dataloader, optimizer,scheduler, device):\n",
        "    model.train()\n",
        "    total_loss, total_correct, total_samples = 0, 0, 0\n",
        "    all_preds, all_labels = [], []\n",
        "\n",
        "    for imgs, labels in tqdm(dataloader, desc=\"Train\"):\n",
        "        imgs, labels = imgs.to(device), labels.to(device)\n",
        "\n",
        "        logits = model(imgs)['cls']  # (B, C)\n",
        "        y = F.one_hot(labels, num_classes=logits.shape[1]).float()\n",
        "\n",
        "        loss = F.binary_cross_entropy_with_logits(logits, y)\n",
        "\n",
        "        optimizer.zero_grad()\n",
        "        loss.backward()\n",
        "        optimizer.step()\n",
        "        scheduler.step()\n",
        "\n",
        "        total_loss += loss.item() * imgs.size(0)\n",
        "\n",
        "        # metrics\n",
        "        probs = torch.sigmoid(logits).detach()\n",
        "        preds = torch.argmax(probs, dim=1)\n",
        "        total_correct += (preds == labels).sum().item()\n",
        "        total_samples += imgs.size(0)\n",
        "\n",
        "        all_preds.append(probs.cpu())\n",
        "        all_labels.append(y.cpu())\n",
        "\n",
        "    # metrics\n",
        "    all_preds = torch.cat(all_preds).numpy()\n",
        "    all_labels = torch.cat(all_labels).numpy()\n",
        "\n",
        "    try:\n",
        "        auc = roc_auc_score(all_labels, all_preds, average='macro', multi_class='ovr')\n",
        "    except:\n",
        "        auc = 0.0  # AUC may fail on few classes per batch\n",
        "\n",
        "    acc = total_correct / total_samples\n",
        "    avg_loss = total_loss / total_samples\n",
        "    return avg_loss, acc, auc\n",
        "@torch.no_grad()\n",
        "def eval_epoch(model, dataloader, device):\n",
        "    model.eval()\n",
        "    total_loss, total_correct, total_samples = 0, 0, 0\n",
        "    all_preds, all_labels = [], []\n",
        "\n",
        "    for imgs, labels in tqdm(dataloader, desc=\"Val\"):\n",
        "        imgs, labels = imgs.to(device), labels.to(device)\n",
        "\n",
        "        logits = model(imgs)['cls']\n",
        "        y = F.one_hot(labels, num_classes=logits.shape[1]).float()\n",
        "\n",
        "        loss = F.binary_cross_entropy_with_logits(logits, y)\n",
        "        total_loss += loss.item() * imgs.size(0)\n",
        "\n",
        "        probs = torch.sigmoid(logits)\n",
        "        preds = torch.argmax(probs, dim=1)\n",
        "        total_correct += (preds == labels).sum().item()\n",
        "        total_samples += imgs.size(0)\n",
        "\n",
        "        all_preds.append(probs.cpu())\n",
        "        all_labels.append(y.cpu())\n",
        "\n",
        "    all_preds = torch.cat(all_preds).numpy()\n",
        "    all_labels = torch.cat(all_labels).numpy()\n",
        "\n",
        "    try:\n",
        "        auc = roc_auc_score(all_labels, all_preds, average='macro', multi_class='ovr')\n",
        "    except:\n",
        "        auc = 0.0\n",
        "\n",
        "    acc = total_correct / total_samples\n",
        "    avg_loss = total_loss / total_samples\n",
        "    return avg_loss, acc, auc"
      ]
    },
    {
      "cell_type": "code",
      "execution_count": 25,
      "id": "dd69a4b5",
      "metadata": {
        "id": "dd69a4b5"
      },
      "outputs": [],
      "source": [
        "model.load_state_dict(torch.load('best_det_model.pth'))\n",
        "\n",
        "# 凍結 backbone 全部\n",
        "for param in model.backbone.parameters():\n",
        "    param.requires_grad = False\n",
        "\n",
        "# 凍結 reduce（Conv1x1 + BN + SiLU）\n",
        "for param in model.reduce.parameters():\n",
        "    param.requires_grad = False\n",
        "\n",
        "# 凍結 head_conv\n",
        "for name, param in model.head_conv.named_parameters():\n",
        "      param.requires_grad = False\n",
        "\n",
        "for name, param in model.head_out.named_parameters():\n",
        "      param.requires_grad = True\n",
        "\n",
        "\n",
        "# # for param in model.backbone.parameters():\n",
        "# #     param.requires_grad = False"
      ]
    },
    {
      "cell_type": "code",
      "execution_count": 26,
      "id": "014840ef",
      "metadata": {
        "colab": {
          "base_uri": "https://localhost:8080/"
        },
        "id": "014840ef",
        "outputId": "df7d949f-4869-4e56-801d-8f651c698768"
      },
      "outputs": [
        {
          "output_type": "stream",
          "name": "stderr",
          "text": [
            "Train: 100%|██████████| 60/60 [00:04<00:00, 13.21it/s]\n",
            "Val: 100%|██████████| 4/4 [00:00<00:00,  7.59it/s]\n"
          ]
        },
        {
          "output_type": "stream",
          "name": "stdout",
          "text": [
            "[Epoch 1]\n",
            "  Train | Loss: 0.3681  Acc: 0.0292  AUC: 0.4977\n",
            "  Val   | Loss: 0.1489  Acc: 0.0667  AUC: 0.5103\n",
            "  ✔️  New best AUC model saved.\n"
          ]
        },
        {
          "output_type": "stream",
          "name": "stderr",
          "text": [
            "Train: 100%|██████████| 60/60 [00:04<00:00, 13.89it/s]\n",
            "Val: 100%|██████████| 4/4 [00:00<00:00,  7.87it/s]\n"
          ]
        },
        {
          "output_type": "stream",
          "name": "stdout",
          "text": [
            "[Epoch 2]\n",
            "  Train | Loss: 0.1512  Acc: 0.0250  AUC: 0.4358\n",
            "  Val   | Loss: 0.1499  Acc: 0.0667  AUC: 0.5434\n"
          ]
        },
        {
          "output_type": "stream",
          "name": "stderr",
          "text": [
            "Train: 100%|██████████| 60/60 [00:05<00:00, 10.99it/s]\n",
            "Val: 100%|██████████| 4/4 [00:00<00:00,  7.78it/s]\n"
          ]
        },
        {
          "output_type": "stream",
          "name": "stdout",
          "text": [
            "[Epoch 3]\n",
            "  Train | Loss: 0.1509  Acc: 0.0208  AUC: 0.4888\n",
            "  Val   | Loss: 0.1493  Acc: 0.0833  AUC: 0.5865\n",
            "  ✔️  New best AUC model saved.\n"
          ]
        },
        {
          "output_type": "stream",
          "name": "stderr",
          "text": [
            "Train: 100%|██████████| 60/60 [00:04<00:00, 13.93it/s]\n",
            "Val: 100%|██████████| 4/4 [00:00<00:00,  7.51it/s]\n"
          ]
        },
        {
          "output_type": "stream",
          "name": "stdout",
          "text": [
            "[Epoch 4]\n",
            "  Train | Loss: 0.1513  Acc: 0.0250  AUC: 0.4951\n",
            "  Val   | Loss: 0.1489  Acc: 0.0833  AUC: 0.6152\n"
          ]
        },
        {
          "output_type": "stream",
          "name": "stderr",
          "text": [
            "Train: 100%|██████████| 60/60 [00:05<00:00, 11.56it/s]\n",
            "Val: 100%|██████████| 4/4 [00:00<00:00,  6.46it/s]\n"
          ]
        },
        {
          "output_type": "stream",
          "name": "stdout",
          "text": [
            "[Epoch 5]\n",
            "  Train | Loss: 0.1511  Acc: 0.0375  AUC: 0.5158\n",
            "  Val   | Loss: 0.1507  Acc: 0.0667  AUC: 0.6399\n"
          ]
        },
        {
          "output_type": "stream",
          "name": "stderr",
          "text": [
            "Train: 100%|██████████| 60/60 [00:04<00:00, 14.05it/s]\n",
            "Val: 100%|██████████| 4/4 [00:00<00:00,  7.49it/s]\n"
          ]
        },
        {
          "output_type": "stream",
          "name": "stdout",
          "text": [
            "[Epoch 6]\n",
            "  Train | Loss: 0.1494  Acc: 0.0458  AUC: 0.5320\n",
            "  Val   | Loss: 0.1474  Acc: 0.0500  AUC: 0.6572\n"
          ]
        },
        {
          "output_type": "stream",
          "name": "stderr",
          "text": [
            "Train: 100%|██████████| 60/60 [00:04<00:00, 13.96it/s]\n",
            "Val: 100%|██████████| 4/4 [00:00<00:00,  7.22it/s]\n"
          ]
        },
        {
          "output_type": "stream",
          "name": "stdout",
          "text": [
            "[Epoch 7]\n",
            "  Train | Loss: 0.1502  Acc: 0.0417  AUC: 0.5385\n",
            "  Val   | Loss: 0.1489  Acc: 0.0333  AUC: 0.6724\n"
          ]
        },
        {
          "output_type": "stream",
          "name": "stderr",
          "text": [
            "Train: 100%|██████████| 60/60 [00:05<00:00, 11.30it/s]\n",
            "Val: 100%|██████████| 4/4 [00:00<00:00,  7.89it/s]\n"
          ]
        },
        {
          "output_type": "stream",
          "name": "stdout",
          "text": [
            "[Epoch 8]\n",
            "  Train | Loss: 0.1494  Acc: 0.0500  AUC: 0.5471\n",
            "  Val   | Loss: 0.1506  Acc: 0.0500  AUC: 0.6845\n"
          ]
        },
        {
          "output_type": "stream",
          "name": "stderr",
          "text": [
            "Train: 100%|██████████| 60/60 [00:04<00:00, 13.74it/s]\n",
            "Val: 100%|██████████| 4/4 [00:00<00:00,  7.59it/s]\n"
          ]
        },
        {
          "output_type": "stream",
          "name": "stdout",
          "text": [
            "[Epoch 9]\n",
            "  Train | Loss: 0.1486  Acc: 0.0208  AUC: 0.5527\n",
            "  Val   | Loss: 0.1459  Acc: 0.0833  AUC: 0.6897\n"
          ]
        },
        {
          "output_type": "stream",
          "name": "stderr",
          "text": [
            "Train: 100%|██████████| 60/60 [00:05<00:00, 11.10it/s]\n",
            "Val: 100%|██████████| 4/4 [00:00<00:00,  7.59it/s]\n"
          ]
        },
        {
          "output_type": "stream",
          "name": "stdout",
          "text": [
            "[Epoch 10]\n",
            "  Train | Loss: 0.1478  Acc: 0.0583  AUC: 0.5660\n",
            "  Val   | Loss: 0.1479  Acc: 0.0833  AUC: 0.6770\n"
          ]
        },
        {
          "output_type": "stream",
          "name": "stderr",
          "text": [
            "Train: 100%|██████████| 60/60 [00:04<00:00, 14.25it/s]\n",
            "Val: 100%|██████████| 4/4 [00:00<00:00,  7.39it/s]\n"
          ]
        },
        {
          "output_type": "stream",
          "name": "stdout",
          "text": [
            "[Epoch 11]\n",
            "  Train | Loss: 0.1486  Acc: 0.0708  AUC: 0.5568\n",
            "  Val   | Loss: 0.1473  Acc: 0.1000  AUC: 0.6816\n",
            "  ✔️  New best AUC model saved.\n"
          ]
        },
        {
          "output_type": "stream",
          "name": "stderr",
          "text": [
            "Train: 100%|██████████| 60/60 [00:04<00:00, 12.52it/s]\n",
            "Val: 100%|██████████| 4/4 [00:00<00:00,  4.54it/s]\n"
          ]
        },
        {
          "output_type": "stream",
          "name": "stdout",
          "text": [
            "[Epoch 12]\n",
            "  Train | Loss: 0.1467  Acc: 0.0625  AUC: 0.6001\n",
            "  Val   | Loss: 0.1487  Acc: 0.1000  AUC: 0.6905\n"
          ]
        },
        {
          "output_type": "stream",
          "name": "stderr",
          "text": [
            "Train: 100%|██████████| 60/60 [00:04<00:00, 13.41it/s]\n",
            "Val: 100%|██████████| 4/4 [00:00<00:00,  7.83it/s]\n"
          ]
        },
        {
          "output_type": "stream",
          "name": "stdout",
          "text": [
            "[Epoch 13]\n",
            "  Train | Loss: 0.1456  Acc: 0.0583  AUC: 0.6060\n",
            "  Val   | Loss: 0.1448  Acc: 0.1167  AUC: 0.6911\n",
            "  ✔️  New best AUC model saved.\n"
          ]
        },
        {
          "output_type": "stream",
          "name": "stderr",
          "text": [
            "Train: 100%|██████████| 60/60 [00:04<00:00, 14.14it/s]\n",
            "Val: 100%|██████████| 4/4 [00:00<00:00,  7.82it/s]\n"
          ]
        },
        {
          "output_type": "stream",
          "name": "stdout",
          "text": [
            "[Epoch 14]\n",
            "  Train | Loss: 0.1448  Acc: 0.0750  AUC: 0.6050\n",
            "  Val   | Loss: 0.1468  Acc: 0.1000  AUC: 0.6968\n"
          ]
        },
        {
          "output_type": "stream",
          "name": "stderr",
          "text": [
            "Train: 100%|██████████| 60/60 [00:05<00:00, 10.84it/s]\n",
            "Val: 100%|██████████| 4/4 [00:00<00:00,  7.48it/s]\n"
          ]
        },
        {
          "output_type": "stream",
          "name": "stdout",
          "text": [
            "[Epoch 15]\n",
            "  Train | Loss: 0.1437  Acc: 0.0750  AUC: 0.6247\n",
            "  Val   | Loss: 0.1427  Acc: 0.1333  AUC: 0.7101\n",
            "  ✔️  New best AUC model saved.\n"
          ]
        },
        {
          "output_type": "stream",
          "name": "stderr",
          "text": [
            "Train: 100%|██████████| 60/60 [00:04<00:00, 14.20it/s]\n",
            "Val: 100%|██████████| 4/4 [00:00<00:00,  7.73it/s]\n"
          ]
        },
        {
          "output_type": "stream",
          "name": "stdout",
          "text": [
            "[Epoch 16]\n",
            "  Train | Loss: 0.1433  Acc: 0.0667  AUC: 0.6271\n",
            "  Val   | Loss: 0.1445  Acc: 0.1333  AUC: 0.7190\n"
          ]
        },
        {
          "output_type": "stream",
          "name": "stderr",
          "text": [
            "Train: 100%|██████████| 60/60 [00:05<00:00, 11.36it/s]\n",
            "Val: 100%|██████████| 4/4 [00:00<00:00,  6.03it/s]\n"
          ]
        },
        {
          "output_type": "stream",
          "name": "stdout",
          "text": [
            "[Epoch 17]\n",
            "  Train | Loss: 0.1426  Acc: 0.0875  AUC: 0.6288\n",
            "  Val   | Loss: 0.1429  Acc: 0.1333  AUC: 0.7256\n"
          ]
        },
        {
          "output_type": "stream",
          "name": "stderr",
          "text": [
            "Train: 100%|██████████| 60/60 [00:04<00:00, 13.99it/s]\n",
            "Val: 100%|██████████| 4/4 [00:00<00:00,  7.47it/s]\n"
          ]
        },
        {
          "output_type": "stream",
          "name": "stdout",
          "text": [
            "[Epoch 18]\n",
            "  Train | Loss: 0.1429  Acc: 0.0917  AUC: 0.6372\n",
            "  Val   | Loss: 0.1448  Acc: 0.1000  AUC: 0.7224\n"
          ]
        },
        {
          "output_type": "stream",
          "name": "stderr",
          "text": [
            "Train: 100%|██████████| 60/60 [00:04<00:00, 13.99it/s]\n",
            "Val: 100%|██████████| 4/4 [00:00<00:00,  7.84it/s]\n"
          ]
        },
        {
          "output_type": "stream",
          "name": "stdout",
          "text": [
            "[Epoch 19]\n",
            "  Train | Loss: 0.1413  Acc: 0.1000  AUC: 0.6539\n",
            "  Val   | Loss: 0.1416  Acc: 0.1667  AUC: 0.7282\n",
            "  ✔️  New best AUC model saved.\n"
          ]
        },
        {
          "output_type": "stream",
          "name": "stderr",
          "text": [
            "Train: 100%|██████████| 60/60 [00:05<00:00, 11.41it/s]\n",
            "Val: 100%|██████████| 4/4 [00:00<00:00,  7.24it/s]\n"
          ]
        },
        {
          "output_type": "stream",
          "name": "stdout",
          "text": [
            "[Epoch 20]\n",
            "  Train | Loss: 0.1439  Acc: 0.0750  AUC: 0.6219\n",
            "  Val   | Loss: 0.1432  Acc: 0.1333  AUC: 0.7207\n"
          ]
        },
        {
          "output_type": "stream",
          "name": "stderr",
          "text": [
            "Train: 100%|██████████| 60/60 [00:04<00:00, 14.06it/s]\n",
            "Val: 100%|██████████| 4/4 [00:00<00:00,  7.80it/s]\n"
          ]
        },
        {
          "output_type": "stream",
          "name": "stdout",
          "text": [
            "[Epoch 21]\n",
            "  Train | Loss: 0.1391  Acc: 0.0917  AUC: 0.6866\n",
            "  Val   | Loss: 0.1415  Acc: 0.1333  AUC: 0.7190\n"
          ]
        },
        {
          "output_type": "stream",
          "name": "stderr",
          "text": [
            "Train: 100%|██████████| 60/60 [00:05<00:00, 11.15it/s]\n",
            "Val: 100%|██████████| 4/4 [00:00<00:00,  7.67it/s]\n"
          ]
        },
        {
          "output_type": "stream",
          "name": "stdout",
          "text": [
            "[Epoch 22]\n",
            "  Train | Loss: 0.1392  Acc: 0.1083  AUC: 0.6841\n",
            "  Val   | Loss: 0.1409  Acc: 0.1333  AUC: 0.7250\n"
          ]
        },
        {
          "output_type": "stream",
          "name": "stderr",
          "text": [
            "Train: 100%|██████████| 60/60 [00:04<00:00, 13.92it/s]\n",
            "Val: 100%|██████████| 4/4 [00:00<00:00,  7.38it/s]\n"
          ]
        },
        {
          "output_type": "stream",
          "name": "stdout",
          "text": [
            "[Epoch 23]\n",
            "  Train | Loss: 0.1379  Acc: 0.1125  AUC: 0.6946\n",
            "  Val   | Loss: 0.1415  Acc: 0.0833  AUC: 0.7241\n"
          ]
        },
        {
          "output_type": "stream",
          "name": "stderr",
          "text": [
            "Train: 100%|██████████| 60/60 [00:04<00:00, 13.48it/s]\n",
            "Val: 100%|██████████| 4/4 [00:00<00:00,  4.48it/s]\n"
          ]
        },
        {
          "output_type": "stream",
          "name": "stdout",
          "text": [
            "[Epoch 24]\n",
            "  Train | Loss: 0.1375  Acc: 0.1458  AUC: 0.6984\n",
            "  Val   | Loss: 0.1403  Acc: 0.0833  AUC: 0.7305\n"
          ]
        },
        {
          "output_type": "stream",
          "name": "stderr",
          "text": [
            "Train: 100%|██████████| 60/60 [00:04<00:00, 12.60it/s]\n",
            "Val: 100%|██████████| 4/4 [00:00<00:00,  7.81it/s]\n"
          ]
        },
        {
          "output_type": "stream",
          "name": "stdout",
          "text": [
            "[Epoch 25]\n",
            "  Train | Loss: 0.1384  Acc: 0.1000  AUC: 0.6952\n",
            "  Val   | Loss: 0.1407  Acc: 0.1500  AUC: 0.7299\n"
          ]
        },
        {
          "output_type": "stream",
          "name": "stderr",
          "text": [
            "Train: 100%|██████████| 60/60 [00:04<00:00, 13.69it/s]\n",
            "Val: 100%|██████████| 4/4 [00:00<00:00,  7.56it/s]\n"
          ]
        },
        {
          "output_type": "stream",
          "name": "stdout",
          "text": [
            "[Epoch 26]\n",
            "  Train | Loss: 0.1369  Acc: 0.1042  AUC: 0.7119\n",
            "  Val   | Loss: 0.1399  Acc: 0.1167  AUC: 0.7227\n"
          ]
        },
        {
          "output_type": "stream",
          "name": "stderr",
          "text": [
            "Train: 100%|██████████| 60/60 [00:05<00:00, 10.89it/s]\n",
            "Val: 100%|██████████| 4/4 [00:00<00:00,  7.63it/s]\n"
          ]
        },
        {
          "output_type": "stream",
          "name": "stdout",
          "text": [
            "[Epoch 27]\n",
            "  Train | Loss: 0.1367  Acc: 0.1417  AUC: 0.7135\n",
            "  Val   | Loss: 0.1390  Acc: 0.1000  AUC: 0.7253\n"
          ]
        },
        {
          "output_type": "stream",
          "name": "stderr",
          "text": [
            "Train: 100%|██████████| 60/60 [00:04<00:00, 14.06it/s]\n",
            "Val: 100%|██████████| 4/4 [00:00<00:00,  7.76it/s]\n"
          ]
        },
        {
          "output_type": "stream",
          "name": "stdout",
          "text": [
            "[Epoch 28]\n",
            "  Train | Loss: 0.1349  Acc: 0.1458  AUC: 0.7363\n",
            "  Val   | Loss: 0.1390  Acc: 0.1167  AUC: 0.7322\n"
          ]
        },
        {
          "output_type": "stream",
          "name": "stderr",
          "text": [
            "Train: 100%|██████████| 60/60 [00:05<00:00, 11.57it/s]\n",
            "Val: 100%|██████████| 4/4 [00:00<00:00,  5.54it/s]\n"
          ]
        },
        {
          "output_type": "stream",
          "name": "stdout",
          "text": [
            "[Epoch 29]\n",
            "  Train | Loss: 0.1357  Acc: 0.1917  AUC: 0.7215\n",
            "  Val   | Loss: 0.1387  Acc: 0.1167  AUC: 0.7339\n"
          ]
        },
        {
          "output_type": "stream",
          "name": "stderr",
          "text": [
            "Train: 100%|██████████| 60/60 [00:04<00:00, 14.06it/s]\n",
            "Val: 100%|██████████| 4/4 [00:00<00:00,  7.79it/s]\n"
          ]
        },
        {
          "output_type": "stream",
          "name": "stdout",
          "text": [
            "[Epoch 30]\n",
            "  Train | Loss: 0.1344  Acc: 0.1583  AUC: 0.7407\n",
            "  Val   | Loss: 0.1390  Acc: 0.1500  AUC: 0.7270\n"
          ]
        },
        {
          "output_type": "stream",
          "name": "stderr",
          "text": [
            "Train: 100%|██████████| 60/60 [00:04<00:00, 13.82it/s]\n",
            "Val: 100%|██████████| 4/4 [00:00<00:00,  7.71it/s]\n"
          ]
        },
        {
          "output_type": "stream",
          "name": "stdout",
          "text": [
            "[Epoch 31]\n",
            "  Train | Loss: 0.1334  Acc: 0.1458  AUC: 0.7478\n",
            "  Val   | Loss: 0.1385  Acc: 0.1667  AUC: 0.7382\n"
          ]
        },
        {
          "output_type": "stream",
          "name": "stderr",
          "text": [
            "Train: 100%|██████████| 60/60 [00:05<00:00, 10.95it/s]\n",
            "Val: 100%|██████████| 4/4 [00:00<00:00,  7.43it/s]\n"
          ]
        },
        {
          "output_type": "stream",
          "name": "stdout",
          "text": [
            "[Epoch 32]\n",
            "  Train | Loss: 0.1349  Acc: 0.1792  AUC: 0.7306\n",
            "  Val   | Loss: 0.1386  Acc: 0.1333  AUC: 0.7328\n"
          ]
        },
        {
          "output_type": "stream",
          "name": "stderr",
          "text": [
            "Train: 100%|██████████| 60/60 [00:04<00:00, 14.09it/s]\n",
            "Val: 100%|██████████| 4/4 [00:00<00:00,  7.70it/s]\n"
          ]
        },
        {
          "output_type": "stream",
          "name": "stdout",
          "text": [
            "[Epoch 33]\n",
            "  Train | Loss: 0.1334  Acc: 0.1625  AUC: 0.7616\n",
            "  Val   | Loss: 0.1383  Acc: 0.1167  AUC: 0.7221\n"
          ]
        },
        {
          "output_type": "stream",
          "name": "stderr",
          "text": [
            "Train: 100%|██████████| 60/60 [00:05<00:00, 11.04it/s]\n",
            "Val: 100%|██████████| 4/4 [00:00<00:00,  7.70it/s]\n"
          ]
        },
        {
          "output_type": "stream",
          "name": "stdout",
          "text": [
            "[Epoch 34]\n",
            "  Train | Loss: 0.1346  Acc: 0.1875  AUC: 0.7394\n",
            "  Val   | Loss: 0.1388  Acc: 0.1167  AUC: 0.7322\n"
          ]
        },
        {
          "output_type": "stream",
          "name": "stderr",
          "text": [
            "Train: 100%|██████████| 60/60 [00:04<00:00, 14.22it/s]\n",
            "Val: 100%|██████████| 4/4 [00:00<00:00,  7.55it/s]\n"
          ]
        },
        {
          "output_type": "stream",
          "name": "stdout",
          "text": [
            "[Epoch 35]\n",
            "  Train | Loss: 0.1341  Acc: 0.1458  AUC: 0.7455\n",
            "  Val   | Loss: 0.1390  Acc: 0.1167  AUC: 0.7302\n"
          ]
        },
        {
          "output_type": "stream",
          "name": "stderr",
          "text": [
            "Train: 100%|██████████| 60/60 [00:04<00:00, 14.06it/s]\n",
            "Val: 100%|██████████| 4/4 [00:00<00:00,  4.66it/s]"
          ]
        },
        {
          "output_type": "stream",
          "name": "stdout",
          "text": [
            "[Epoch 36]\n",
            "  Train | Loss: 0.1337  Acc: 0.1958  AUC: 0.7556\n",
            "  Val   | Loss: 0.1381  Acc: 0.1500  AUC: 0.7239\n"
          ]
        },
        {
          "output_type": "stream",
          "name": "stderr",
          "text": [
            "\n"
          ]
        }
      ],
      "source": [
        "optimizer = torch.optim.AdamW(filter(lambda p: p.requires_grad, model.parameters()), lr=5e-3)\n",
        "\n",
        "num_epochs = 36\n",
        "train_steps_per_epoch = len(train_dl)\n",
        "total_steps = num_epochs * train_steps_per_epoch\n",
        "warmup_steps = int(0.05 * total_steps)  # 可調整比例\n",
        "\n",
        "scheduler = get_cosine_schedule_with_warmup(\n",
        "    optimizer,\n",
        "    num_warmup_steps=warmup_steps,\n",
        "    num_training_steps=total_steps\n",
        ")\n",
        "\n",
        "best_top1 = 0\n",
        "\n",
        "for epoch in range(1, num_epochs+1):\n",
        "    train_loss, train_acc, train_auc = train_epoch(model, train_dl, optimizer,scheduler, device)\n",
        "    val_loss, val_acc, val_auc = eval_epoch(model, val_dl, device)\n",
        "\n",
        "    print(f\"[Epoch {epoch}]\")\n",
        "    print(f\"  Train | Loss: {train_loss:.4f}  Acc: {train_acc:.4f}  AUC: {train_auc:.4f}\")\n",
        "    print(f\"  Val   | Loss: {val_loss:.4f}  Acc: {val_acc:.4f}  AUC: {val_auc:.4f}\")\n",
        "\n",
        "    if val_acc > best_top1:\n",
        "        best_top1 = val_acc\n",
        "        torch.save(model.state_dict(), \"best_cls_model.pth\")\n",
        "        print(\"  ✔️  New best AUC model saved.\")\n"
      ]
    },
    {
      "cell_type": "code",
      "execution_count": 27,
      "id": "3645daa6",
      "metadata": {
        "colab": {
          "base_uri": "https://localhost:8080/"
        },
        "id": "3645daa6",
        "outputId": "365413b3-d2e6-455e-89a9-4e828487d2f2"
      },
      "outputs": [
        {
          "output_type": "stream",
          "name": "stderr",
          "text": [
            "WARNING:timm.models._builder:Unexpected keys (bn2.bias, bn2.num_batches_tracked, bn2.running_mean, bn2.running_var, bn2.weight, classifier.bias, classifier.weight, conv_head.weight) found while loading pretrained weights. This may be expected if model is being adapted.\n",
            "WARNING:timm.models._builder:Unexpected keys (bn2.bias, bn2.num_batches_tracked, bn2.running_mean, bn2.running_var, bn2.weight, classifier.bias, classifier.weight, conv_head.weight) found while loading pretrained weights. This may be expected if model is being adapted.\n"
          ]
        }
      ],
      "source": [
        "modelA = UniHeadNet(n_seg_cls=19,n_det_cls=10, n_anchor=3,n_cls=30).to(cfg[\"device\"])\n",
        "modelB = UniHeadNet(n_seg_cls=19,n_det_cls=10, n_anchor=3,n_cls=30).to(cfg[\"device\"])\n",
        "modelA.load_state_dict(torch.load('best_det_model.pth'))\n",
        "\n",
        "modelB.load_state_dict(torch.load('best_cls_model.pth'))\n",
        "with torch.no_grad():\n",
        "    C_det = modelA.C_det\n",
        "    C_seg = modelA.C_seg\n",
        "\n",
        "    modelB.head_out.weight[:C_det+C_seg].copy_(\n",
        "        modelA.head_out.weight[:C_det+C_seg])\n",
        "    modelB.head_out.bias[:C_det+C_seg].copy_(\n",
        "        modelA.head_out.bias[:C_det+C_seg])\n",
        "\n",
        "\n",
        "\n",
        "\n",
        "model=modelB\n"
      ]
    },
    {
      "cell_type": "code",
      "execution_count": 27,
      "id": "18250216",
      "metadata": {
        "id": "18250216"
      },
      "outputs": [],
      "source": []
    },
    {
      "cell_type": "code",
      "execution_count": 27,
      "id": "6d1516f9",
      "metadata": {
        "id": "6d1516f9"
      },
      "outputs": [],
      "source": []
    },
    {
      "cell_type": "code",
      "execution_count": 27,
      "id": "55fea1e9",
      "metadata": {
        "id": "55fea1e9"
      },
      "outputs": [],
      "source": []
    },
    {
      "cell_type": "code",
      "execution_count": 28,
      "id": "ab1ad31a",
      "metadata": {
        "colab": {
          "base_uri": "https://localhost:8080/"
        },
        "id": "ab1ad31a",
        "outputId": "fa618148-2660-4660-802f-caee5045f366"
      },
      "outputs": [
        {
          "output_type": "stream",
          "name": "stdout",
          "text": [
            "backbone.bn1.running_mean                                     changed   max|Δ|=5.157e+00\n",
            "backbone.bn1.running_var                                      changed   max|Δ|=3.565e+01\n",
            "backbone.bn1.num_batches_tracked                              changed   max|Δ|=1.140e+03\n",
            "backbone.blocks.0.0.bn1.running_mean                          changed   max|Δ|=4.520e-01\n",
            "backbone.blocks.0.0.bn1.running_var                           changed   max|Δ|=8.179e+01\n",
            "backbone.blocks.0.0.bn1.num_batches_tracked                   changed   max|Δ|=1.140e+03\n",
            "backbone.blocks.0.0.bn2.running_mean                          changed   max|Δ|=7.846e-02\n",
            "backbone.blocks.0.0.bn2.running_var                           changed   max|Δ|=1.349e+00\n",
            "backbone.blocks.0.0.bn2.num_batches_tracked                   changed   max|Δ|=1.140e+03\n",
            "backbone.blocks.1.0.bn1.running_var                           changed   max|Δ|=1.006e+02\n",
            "backbone.blocks.1.0.bn1.num_batches_tracked                   changed   max|Δ|=1.140e+03\n",
            "...\n"
          ]
        }
      ],
      "source": [
        "def diff_report(model_old, model_new, atol=1e-6):\n",
        "    count=0\n",
        "    for (n1, p1), (n2, p2) in zip(model_old.state_dict().items(),\n",
        "                                   model_new.state_dict().items()):\n",
        "        if not torch.allclose(p1, p2, atol=atol):\n",
        "            count+=1\n",
        "            print(f\"{n1:60s}  changed   max|Δ|={float((p1-p2).abs().max()):.3e}\")\n",
        "        if count>10:\n",
        "            print(\"...\")\n",
        "            break\n",
        "diff_report(modelA, modelB)"
      ]
    },
    {
      "cell_type": "code",
      "execution_count": 28,
      "id": "069b4632",
      "metadata": {
        "id": "069b4632"
      },
      "outputs": [],
      "source": []
    },
    {
      "cell_type": "code",
      "execution_count": 29,
      "id": "057f8e01",
      "metadata": {
        "colab": {
          "base_uri": "https://localhost:8080/"
        },
        "id": "057f8e01",
        "outputId": "d6b440c1-0c32-4b44-a12f-b338be3f1d9f"
      },
      "outputs": [
        {
          "output_type": "stream",
          "name": "stderr",
          "text": [
            "Val: 100%|██████████| 4/4 [00:00<00:00,  6.13it/s]\n"
          ]
        },
        {
          "output_type": "stream",
          "name": "stdout",
          "text": [
            "Top1_base is:0.16666666666666666\n"
          ]
        },
        {
          "output_type": "stream",
          "name": "stderr",
          "text": [
            "100%|██████████| 4/4 [00:00<00:00,  4.18it/s]\n"
          ]
        },
        {
          "output_type": "stream",
          "name": "stdout",
          "text": [
            "mAP@0.5 (top-1 prediction only): 0.1667\n",
            "mAP_drop is:0.16666666666666666\n"
          ]
        },
        {
          "output_type": "stream",
          "name": "stderr",
          "text": [
            "100%|██████████| 8/8 [00:01<00:00,  4.59it/s]"
          ]
        },
        {
          "output_type": "stream",
          "name": "stdout",
          "text": [
            "Val Loss: 0.5364, mIoU: 0.9375\n",
            "mIoU_drop is:0.9375106692314148\n"
          ]
        },
        {
          "output_type": "stream",
          "name": "stderr",
          "text": [
            "\n"
          ]
        }
      ],
      "source": [
        "model.eval()\n",
        "_,top1_score,_ = eval_epoch(model, val_dl, device)\n",
        "print(f\"Top1_base is:{top1_score}\")\n",
        "val_mAP=evaluate_map(model, val_det_loader, anchors, num_classes=n_det_cls, device=device)\n",
        "print(f\"mAP_drop is:{val_mAP}\")\n",
        "\n",
        "_,val_miou =validate_seg(model, val_seg_loader, cfg[\"device\"])\n",
        "\n",
        "print(f\"mIoU_drop is:{val_miou}\")"
      ]
    },
    {
      "cell_type": "code",
      "execution_count": 30,
      "id": "3ab53f50",
      "metadata": {
        "id": "3ab53f50"
      },
      "outputs": [],
      "source": [
        "torch.save(model.state_dict(), 'best_model.pt')"
      ]
    },
    {
      "cell_type": "code",
      "execution_count": 31,
      "id": "87865257",
      "metadata": {
        "id": "87865257"
      },
      "outputs": [],
      "source": [
        "time_end=time.time()"
      ]
    },
    {
      "cell_type": "markdown",
      "source": [
        "if torch.cuda.is_available():\n",
        "    print(\"Using GPU:\", torch.cuda.get_device_name(0))\n",
        "else:\n",
        "    print(\"No GPU available.\")"
      ],
      "metadata": {
        "id": "_vTuT9LcQYxz"
      },
      "id": "_vTuT9LcQYxz"
    },
    {
      "cell_type": "code",
      "source": [
        "if torch.cuda.is_available(): print(\"Using GPU:\", torch.cuda.get_device_name(0))\n",
        "else: print(\"No GPU available.\")"
      ],
      "metadata": {
        "colab": {
          "base_uri": "https://localhost:8080/"
        },
        "id": "p835jIgJTHV3",
        "outputId": "1162b07a-7f78-450a-89cf-a6eaca22e55e"
      },
      "id": "p835jIgJTHV3",
      "execution_count": 32,
      "outputs": [
        {
          "output_type": "stream",
          "name": "stdout",
          "text": [
            "Using GPU: Tesla T4\n"
          ]
        }
      ]
    },
    {
      "cell_type": "code",
      "source": [
        "elapsed = time_end-time_start\n",
        "\n",
        "h, rem = divmod(elapsed, 3600)\n",
        "m, s = divmod(rem, 60)\n",
        "\n",
        "print(f\"{int(h)}h {int(m)}m {s:.2f}s\")"
      ],
      "metadata": {
        "colab": {
          "base_uri": "https://localhost:8080/"
        },
        "id": "Sw4bthosTDLP",
        "outputId": "6ac8984b-cd5c-432f-bf0d-06b84bfcce18"
      },
      "id": "Sw4bthosTDLP",
      "execution_count": 33,
      "outputs": [
        {
          "output_type": "stream",
          "name": "stdout",
          "text": [
            "0h 10m 59.83s\n"
          ]
        }
      ]
    },
    {
      "cell_type": "code",
      "source": [],
      "metadata": {
        "id": "gP8IS02eTQJi"
      },
      "id": "gP8IS02eTQJi",
      "execution_count": 33,
      "outputs": []
    }
  ],
  "metadata": {
    "kernelspec": {
      "display_name": "Python 3",
      "name": "python3"
    },
    "language_info": {
      "codemirror_mode": {
        "name": "ipython",
        "version": 3
      },
      "file_extension": ".py",
      "mimetype": "text/x-python",
      "name": "python",
      "nbconvert_exporter": "python",
      "pygments_lexer": "ipython3",
      "version": "3.8.15"
    },
    "colab": {
      "provenance": [],
      "gpuType": "T4"
    },
    "accelerator": "GPU",
    "widgets": {
      "application/vnd.jupyter.widget-state+json": {
        "2281c9c996f34607bffcc653e3f58cfa": {
          "model_module": "@jupyter-widgets/controls",
          "model_name": "HBoxModel",
          "model_module_version": "1.5.0",
          "state": {
            "_dom_classes": [],
            "_model_module": "@jupyter-widgets/controls",
            "_model_module_version": "1.5.0",
            "_model_name": "HBoxModel",
            "_view_count": null,
            "_view_module": "@jupyter-widgets/controls",
            "_view_module_version": "1.5.0",
            "_view_name": "HBoxView",
            "box_style": "",
            "children": [
              "IPY_MODEL_d95a02819f3b4feb8ef47be400ad9d3c",
              "IPY_MODEL_c21986aa17e048c4a37cc59ba51d44d4",
              "IPY_MODEL_708ed8344a214b6e80287b1efce266ca"
            ],
            "layout": "IPY_MODEL_5ff0421f769c4973a8c6ff4d5a4321f8"
          }
        },
        "d95a02819f3b4feb8ef47be400ad9d3c": {
          "model_module": "@jupyter-widgets/controls",
          "model_name": "HTMLModel",
          "model_module_version": "1.5.0",
          "state": {
            "_dom_classes": [],
            "_model_module": "@jupyter-widgets/controls",
            "_model_module_version": "1.5.0",
            "_model_name": "HTMLModel",
            "_view_count": null,
            "_view_module": "@jupyter-widgets/controls",
            "_view_module_version": "1.5.0",
            "_view_name": "HTMLView",
            "description": "",
            "description_tooltip": null,
            "layout": "IPY_MODEL_45585bee595d4ee096061e6abefccc87",
            "placeholder": "​",
            "style": "IPY_MODEL_73865e16ae124e8687f2e4fdcf8f9fc0",
            "value": "model.safetensors: 100%"
          }
        },
        "c21986aa17e048c4a37cc59ba51d44d4": {
          "model_module": "@jupyter-widgets/controls",
          "model_name": "FloatProgressModel",
          "model_module_version": "1.5.0",
          "state": {
            "_dom_classes": [],
            "_model_module": "@jupyter-widgets/controls",
            "_model_module_version": "1.5.0",
            "_model_name": "FloatProgressModel",
            "_view_count": null,
            "_view_module": "@jupyter-widgets/controls",
            "_view_module_version": "1.5.0",
            "_view_name": "ProgressView",
            "bar_style": "success",
            "description": "",
            "description_tooltip": null,
            "layout": "IPY_MODEL_94f4f01884b8440d88eafa63a0ff9833",
            "max": 21355344,
            "min": 0,
            "orientation": "horizontal",
            "style": "IPY_MODEL_0333f7fdbfb54f869470096ac652df4c",
            "value": 21355344
          }
        },
        "708ed8344a214b6e80287b1efce266ca": {
          "model_module": "@jupyter-widgets/controls",
          "model_name": "HTMLModel",
          "model_module_version": "1.5.0",
          "state": {
            "_dom_classes": [],
            "_model_module": "@jupyter-widgets/controls",
            "_model_module_version": "1.5.0",
            "_model_name": "HTMLModel",
            "_view_count": null,
            "_view_module": "@jupyter-widgets/controls",
            "_view_module_version": "1.5.0",
            "_view_name": "HTMLView",
            "description": "",
            "description_tooltip": null,
            "layout": "IPY_MODEL_c3c120a66fd44062a62a14e078107062",
            "placeholder": "​",
            "style": "IPY_MODEL_c8cafe9fec6d4301b3400debd9f27981",
            "value": " 21.4M/21.4M [00:00&lt;00:00, 51.9MB/s]"
          }
        },
        "5ff0421f769c4973a8c6ff4d5a4321f8": {
          "model_module": "@jupyter-widgets/base",
          "model_name": "LayoutModel",
          "model_module_version": "1.2.0",
          "state": {
            "_model_module": "@jupyter-widgets/base",
            "_model_module_version": "1.2.0",
            "_model_name": "LayoutModel",
            "_view_count": null,
            "_view_module": "@jupyter-widgets/base",
            "_view_module_version": "1.2.0",
            "_view_name": "LayoutView",
            "align_content": null,
            "align_items": null,
            "align_self": null,
            "border": null,
            "bottom": null,
            "display": null,
            "flex": null,
            "flex_flow": null,
            "grid_area": null,
            "grid_auto_columns": null,
            "grid_auto_flow": null,
            "grid_auto_rows": null,
            "grid_column": null,
            "grid_gap": null,
            "grid_row": null,
            "grid_template_areas": null,
            "grid_template_columns": null,
            "grid_template_rows": null,
            "height": null,
            "justify_content": null,
            "justify_items": null,
            "left": null,
            "margin": null,
            "max_height": null,
            "max_width": null,
            "min_height": null,
            "min_width": null,
            "object_fit": null,
            "object_position": null,
            "order": null,
            "overflow": null,
            "overflow_x": null,
            "overflow_y": null,
            "padding": null,
            "right": null,
            "top": null,
            "visibility": null,
            "width": null
          }
        },
        "45585bee595d4ee096061e6abefccc87": {
          "model_module": "@jupyter-widgets/base",
          "model_name": "LayoutModel",
          "model_module_version": "1.2.0",
          "state": {
            "_model_module": "@jupyter-widgets/base",
            "_model_module_version": "1.2.0",
            "_model_name": "LayoutModel",
            "_view_count": null,
            "_view_module": "@jupyter-widgets/base",
            "_view_module_version": "1.2.0",
            "_view_name": "LayoutView",
            "align_content": null,
            "align_items": null,
            "align_self": null,
            "border": null,
            "bottom": null,
            "display": null,
            "flex": null,
            "flex_flow": null,
            "grid_area": null,
            "grid_auto_columns": null,
            "grid_auto_flow": null,
            "grid_auto_rows": null,
            "grid_column": null,
            "grid_gap": null,
            "grid_row": null,
            "grid_template_areas": null,
            "grid_template_columns": null,
            "grid_template_rows": null,
            "height": null,
            "justify_content": null,
            "justify_items": null,
            "left": null,
            "margin": null,
            "max_height": null,
            "max_width": null,
            "min_height": null,
            "min_width": null,
            "object_fit": null,
            "object_position": null,
            "order": null,
            "overflow": null,
            "overflow_x": null,
            "overflow_y": null,
            "padding": null,
            "right": null,
            "top": null,
            "visibility": null,
            "width": null
          }
        },
        "73865e16ae124e8687f2e4fdcf8f9fc0": {
          "model_module": "@jupyter-widgets/controls",
          "model_name": "DescriptionStyleModel",
          "model_module_version": "1.5.0",
          "state": {
            "_model_module": "@jupyter-widgets/controls",
            "_model_module_version": "1.5.0",
            "_model_name": "DescriptionStyleModel",
            "_view_count": null,
            "_view_module": "@jupyter-widgets/base",
            "_view_module_version": "1.2.0",
            "_view_name": "StyleView",
            "description_width": ""
          }
        },
        "94f4f01884b8440d88eafa63a0ff9833": {
          "model_module": "@jupyter-widgets/base",
          "model_name": "LayoutModel",
          "model_module_version": "1.2.0",
          "state": {
            "_model_module": "@jupyter-widgets/base",
            "_model_module_version": "1.2.0",
            "_model_name": "LayoutModel",
            "_view_count": null,
            "_view_module": "@jupyter-widgets/base",
            "_view_module_version": "1.2.0",
            "_view_name": "LayoutView",
            "align_content": null,
            "align_items": null,
            "align_self": null,
            "border": null,
            "bottom": null,
            "display": null,
            "flex": null,
            "flex_flow": null,
            "grid_area": null,
            "grid_auto_columns": null,
            "grid_auto_flow": null,
            "grid_auto_rows": null,
            "grid_column": null,
            "grid_gap": null,
            "grid_row": null,
            "grid_template_areas": null,
            "grid_template_columns": null,
            "grid_template_rows": null,
            "height": null,
            "justify_content": null,
            "justify_items": null,
            "left": null,
            "margin": null,
            "max_height": null,
            "max_width": null,
            "min_height": null,
            "min_width": null,
            "object_fit": null,
            "object_position": null,
            "order": null,
            "overflow": null,
            "overflow_x": null,
            "overflow_y": null,
            "padding": null,
            "right": null,
            "top": null,
            "visibility": null,
            "width": null
          }
        },
        "0333f7fdbfb54f869470096ac652df4c": {
          "model_module": "@jupyter-widgets/controls",
          "model_name": "ProgressStyleModel",
          "model_module_version": "1.5.0",
          "state": {
            "_model_module": "@jupyter-widgets/controls",
            "_model_module_version": "1.5.0",
            "_model_name": "ProgressStyleModel",
            "_view_count": null,
            "_view_module": "@jupyter-widgets/base",
            "_view_module_version": "1.2.0",
            "_view_name": "StyleView",
            "bar_color": null,
            "description_width": ""
          }
        },
        "c3c120a66fd44062a62a14e078107062": {
          "model_module": "@jupyter-widgets/base",
          "model_name": "LayoutModel",
          "model_module_version": "1.2.0",
          "state": {
            "_model_module": "@jupyter-widgets/base",
            "_model_module_version": "1.2.0",
            "_model_name": "LayoutModel",
            "_view_count": null,
            "_view_module": "@jupyter-widgets/base",
            "_view_module_version": "1.2.0",
            "_view_name": "LayoutView",
            "align_content": null,
            "align_items": null,
            "align_self": null,
            "border": null,
            "bottom": null,
            "display": null,
            "flex": null,
            "flex_flow": null,
            "grid_area": null,
            "grid_auto_columns": null,
            "grid_auto_flow": null,
            "grid_auto_rows": null,
            "grid_column": null,
            "grid_gap": null,
            "grid_row": null,
            "grid_template_areas": null,
            "grid_template_columns": null,
            "grid_template_rows": null,
            "height": null,
            "justify_content": null,
            "justify_items": null,
            "left": null,
            "margin": null,
            "max_height": null,
            "max_width": null,
            "min_height": null,
            "min_width": null,
            "object_fit": null,
            "object_position": null,
            "order": null,
            "overflow": null,
            "overflow_x": null,
            "overflow_y": null,
            "padding": null,
            "right": null,
            "top": null,
            "visibility": null,
            "width": null
          }
        },
        "c8cafe9fec6d4301b3400debd9f27981": {
          "model_module": "@jupyter-widgets/controls",
          "model_name": "DescriptionStyleModel",
          "model_module_version": "1.5.0",
          "state": {
            "_model_module": "@jupyter-widgets/controls",
            "_model_module_version": "1.5.0",
            "_model_name": "DescriptionStyleModel",
            "_view_count": null,
            "_view_module": "@jupyter-widgets/base",
            "_view_module_version": "1.2.0",
            "_view_name": "StyleView",
            "description_width": ""
          }
        }
      }
    }
  },
  "nbformat": 4,
  "nbformat_minor": 5
}